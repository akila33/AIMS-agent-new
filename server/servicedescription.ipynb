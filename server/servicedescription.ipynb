{
 "cells": [
  {
   "cell_type": "code",
   "execution_count": 16,
   "id": "88e95ecf",
   "metadata": {},
   "outputs": [],
   "source": [
    "#!pip3 install rdflib"
   ]
  },
  {
   "cell_type": "code",
   "execution_count": 1,
   "id": "a0ca151b",
   "metadata": {
    "ExecuteTime": {
     "start_time": "2023-08-03T05:33:15.323263Z",
     "end_time": "2023-08-03T05:33:19.513527Z"
    }
   },
   "outputs": [],
   "source": [
    "from rdflib import Graph, Literal, RDF, URIRef\n",
    "# rdflib knows about quite a few popular namespaces, like W3C ontologies, schema.org etc.\n",
    "from rdflib.namespace import FOAF , XSD"
   ]
  },
  {
   "cell_type": "code",
   "execution_count": 2,
   "id": "623d49eb",
   "metadata": {
    "ExecuteTime": {
     "start_time": "2023-08-03T05:33:19.426579Z",
     "end_time": "2023-08-03T05:33:20.209664Z"
    }
   },
   "outputs": [],
   "source": [
    "from rdflib.namespace import NamespaceManager\n",
    "from rdflib import BNode"
   ]
  },
  {
   "cell_type": "code",
   "execution_count": 3,
   "id": "83d55511",
   "metadata": {
    "ExecuteTime": {
     "start_time": "2023-08-03T05:33:19.438571Z",
     "end_time": "2023-08-03T05:33:20.209664Z"
    }
   },
   "outputs": [],
   "source": [
    "#pipeline = {}\n",
    "pipeline=0"
   ]
  },
  {
   "cell_type": "code",
   "execution_count": 4,
   "id": "37f00462",
   "metadata": {
    "ExecuteTime": {
     "start_time": "2023-08-03T05:33:20.209664Z",
     "end_time": "2023-08-03T05:33:20.615973Z"
    }
   },
   "outputs": [],
   "source": [
    "services = []\n",
    "parameterslist = []"
   ]
  },
  {
   "cell_type": "code",
   "execution_count": 5,
   "id": "9df1f5d5",
   "metadata": {
    "ExecuteTime": {
     "start_time": "2023-08-03T05:33:20.631511Z",
     "end_time": "2023-08-03T05:33:20.990951Z"
    }
   },
   "outputs": [],
   "source": [
    "def create_services(service):\n",
    "    services.append(service)\n",
    "    return services"
   ]
  },
  {
   "cell_type": "code",
   "execution_count": 6,
   "id": "7f95d09d",
   "metadata": {
    "ExecuteTime": {
     "start_time": "2023-08-03T05:33:21.006484Z",
     "end_time": "2023-08-03T05:33:21.383676Z"
    }
   },
   "outputs": [],
   "source": [
    "def create_pipeline(services):\n",
    "    pipeservices = {}\n",
    "    i=0\n",
    "    for ise in services: \n",
    "        pipeservices.update({i:ise})\n",
    "        i=i+1\n",
    "    return pipeservice"
   ]
  },
  {
   "cell_type": "code",
   "execution_count": 7,
   "id": "e53c1b44",
   "metadata": {
    "ExecuteTime": {
     "start_time": "2023-08-03T05:33:21.383676Z",
     "end_time": "2023-08-03T05:33:21.747265Z"
    }
   },
   "outputs": [],
   "source": [
    "def create_dependencies(requirements):\n",
    "    dependencies= requirements\n",
    "    return dependencies"
   ]
  },
  {
   "cell_type": "code",
   "execution_count": 8,
   "id": "140f9161",
   "metadata": {
    "ExecuteTime": {
     "start_time": "2023-08-03T05:33:21.747265Z",
     "end_time": "2023-08-03T05:33:22.113266Z"
    }
   },
   "outputs": [],
   "source": [
    "parameterslist = []"
   ]
  },
  {
   "cell_type": "code",
   "execution_count": 9,
   "id": "7e8fbaaa",
   "metadata": {
    "ExecuteTime": {
     "start_time": "2023-08-03T05:33:22.128801Z",
     "end_time": "2023-08-03T05:33:22.472681Z"
    }
   },
   "outputs": [],
   "source": [
    "#parameter is also a list contains 1 parameter name and 2 parameter semantic meanings\n",
    "def create_parameters(parameter):\n",
    "    paramenterslist.append(parameter)\n",
    "    return parameterslist"
   ]
  },
  {
   "cell_type": "code",
   "execution_count": 10,
   "id": "e2a1fc85",
   "metadata": {
    "ExecuteTime": {
     "start_time": "2023-08-03T05:33:22.472681Z",
     "end_time": "2023-08-03T05:33:22.812791Z"
    }
   },
   "outputs": [],
   "source": [
    "#parameters = parameterslist\n",
    "def Create_input_spec(inputtxt):\n",
    "    inputlist={}\n",
    "    i=0\n",
    "    for ix in inputtxt:\n",
    "        input_x = ix.split('.')\n",
    "        inputlist[i] = input_x \n",
    "        i=i+1\n",
    "    return inputlist"
   ]
  },
  {
   "cell_type": "code",
   "execution_count": 11,
   "id": "e190c78c",
   "metadata": {
    "ExecuteTime": {
     "start_time": "2023-08-03T05:33:22.828384Z",
     "end_time": "2023-08-03T05:33:23.140772Z"
    }
   },
   "outputs": [],
   "source": [
    "def Create_output_spec(outputtxt):\n",
    "    outputlist={}\n",
    "    i=0\n",
    "    for ox in outputtxt:\n",
    "        output_x = ox.split('.')\n",
    "        outputlist[i] = output_x \n",
    "        i=i+1\n",
    "    return outputlist"
   ]
  },
  {
   "cell_type": "code",
   "execution_count": 12,
   "id": "2092b759",
   "metadata": {
    "ExecuteTime": {
     "start_time": "2023-08-03T05:33:23.140772Z",
     "end_time": "2023-08-03T05:33:23.748753Z"
    }
   },
   "outputs": [],
   "source": [
    "# Create a Graph function\n",
    "# v namespece is the service namespace\n",
    "# v ms_name is the service name\n",
    "# v description\n",
    "# v ms_type [data loading, data clearning, data trasnfer, data scaling, ... machine learning model,  visulaisation]\n",
    "# v dependencies is the library\n",
    "# v framework is the programming framework\n",
    "# v GPU is indicate if the GPU is required 0 no, 1 yes\n",
    "# x pipeline is the microservices composition process of this service. IF = 0, then this is atom service. IF != 0, then the pipleline\n",
    "# is also a two demotional dictionary with step number and service dictionary. The inner service dictionary contains \n",
    "# service name and service type and category. The service name is optional but if it is empty, then automatic composition \n",
    "# process will start  \n",
    "# v model_format is the model save formation e.g. h5 that can be invoked \n",
    "# v invoke_uri \n",
    "# v input_sp 1 presents data, 2 presents image, 3 presents text, 4 presents othertype and 5 presents any \n",
    "# v output_sp\n",
    "# v contributor is which organisation or individul or groups developed this model\n",
    "# v licence\n",
    "# v service_category [linearRegression, ... logitstic regression, ... CNN] \n",
    "def greateMSGraph(namespace,ms_name, description, ms_type, dependencies, framework, GPU, pipeline, model_format, input_sp, output_sp, contributor, licence, service_category):\n",
    "    # need to check names before start but this is future work\n",
    "    g = Graph()\n",
    "    g.parse(\"registry.n3\")\n",
    "    if len(ms_name) > 0 and len(ms_type) > 0 and len(dependencies)> 0: \n",
    "        #subject\n",
    "        MService = URIRef(namespace+'/'+ms_name)\n",
    "        #object\n",
    "        _type = URIRef(namespace+'/'+ms_type)\n",
    "        _contributor = URIRef(contributor)\n",
    "        _lic = URIRef(licence)\n",
    "        _sc = URIRef(namespace+'/'+service_category)\n",
    "        print(_sc)\n",
    "        #verb\n",
    "        has_framework = URIRef(namespace+'/framwork')\n",
    "        has_contributor = URIRef(namespace+'/contributor')\n",
    "        has_licence = URIRef(namespace+'/licence')\n",
    "        has_category = URIRef(namespace+'/category')\n",
    "        has_dep = URIRef(namespace+'/dependency')\n",
    "        service_uri = URIRef(namespace+'/uri')\n",
    "        uses = URIRef(namespace+'/uses')\n",
    "        has_format = URIRef(namespace+'/formate')\n",
    "        has_pipeline = URIRef(namespace+'/pipe')\n",
    "        has_input = URIRef(namespace+'/input')\n",
    "        has_output = URIRef(namespace+'/output')\n",
    "        has_ioct = URIRef(namespace+'/iocategory')\n",
    "        has_iodt = URIRef(namespace+'/iodatatype')\n",
    "        has_ioshape = URIRef(namespace+'/ioshape')\n",
    "        has_description = URIRef(namespace+'/description')\n",
    "        has_paramter = URIRef(namespace+'/paramter')\n",
    "        has_paramter_id = URIRef(namespace+'/pid')\n",
    "        #triples\n",
    "        g.add((MService, has_description, Literal(description,lang=\"en\")))\n",
    "        g.add((MService, RDF.type, _type))\n",
    "        g.add((MService, has_framework, Literal(framework,lang=\"en\")))\n",
    "        g.add((MService, has_contributor, _contributor))\n",
    "        g.add((MService, has_licence, _lic))\n",
    "        g.add((MService, has_category, _sc))\n",
    "        g.add((MService, service_uri, URIRef(MService)))\n",
    "        g.add((MService, has_format, Literal(model_format,lang=\"en\")))\n",
    "        if GPU==1:\n",
    "            g.add((MService, uses, Literal('gpu',lang=\"en\")))\n",
    "        for d in dependencies:\n",
    "            g.add((MService, has_dep, Literal(d,lang=\"en\")))\n",
    "        \n",
    "        if pipeline != 0:\n",
    "            for x in pipeline:\n",
    "                g.add((MService, has_pipeline, Literal(x,lang=\"en\")))\n",
    "        if bool(input_sp):        \n",
    "            _input = BNode()\n",
    "            g.add((MService, has_input, _input))\n",
    "            i=0\n",
    "            for x in input_sp: \n",
    "                _inputp = BNode()\n",
    "                g.add((_input, has_paramter, _inputp))\n",
    "                g.add((_inputp, has_paramter_id, Literal(str(i),lang=\"en\")))\n",
    "                i=i+1\n",
    "                if len(input_sp[x])>0:\n",
    "                    g.add((_inputp, has_ioct, URIRef(namespace+'/'+input_sp[x][0])))\n",
    "                if len(input_sp[x])>1:\n",
    "                    g.add((_inputp, has_iodt, URIRef(namespace+'/'+input_sp[x][1])))\n",
    "                if len(input_sp[x])>2:\n",
    "                    g.add((_inputp, has_ioshape, Literal(input_sp[x][2],lang=\"en\")))\n",
    "        if bool(output_sp):        \n",
    "            _output = BNode()\n",
    "            g.add((MService, has_output, _output))\n",
    "            i=0\n",
    "            for x in output_sp:\n",
    "                _outputp = BNode()\n",
    "                g.add((_output, has_paramter, _outputp))\n",
    "                g.add((_outputp, has_paramter_id, Literal(str(i),lang=\"en\")))\n",
    "                i=i+1\n",
    "                if len(output_sp[x])>0:\n",
    "                    g.add((_outputp, has_ioct, URIRef(namespace+'/'+output_sp[x][0])))\n",
    "                if len(output_sp[x])>1:\n",
    "                    g.add((_outputp, has_iodt, URIRef(namespace+'/'+output_sp[x][1])))\n",
    "                if len(output_sp[x])>2:\n",
    "                    g.add((_outputp, has_ioshape, Literal(output_sp[x][2],lang=\"en\")))\n",
    "        g.serialize(destination='registry'+\".n3\")\n",
    "        "
   ]
  },
  {
   "cell_type": "code",
   "execution_count": 19,
   "id": "e950d9f9",
   "metadata": {},
   "outputs": [
    {
     "name": "stdout",
     "output_type": "stream",
     "text": [
      "http://aimicroservice.derby.ac.uk/Bioinformatics\n"
     ]
    }
   ],
   "source": [
    "#Clustering Gen AnnData\n",
    "requirements = ['scanpy','pandas','seaborn','matplotlib']\n",
    "dpend = create_dependencies(requirements) \n",
    "input_s = Create_input_spec(['brain_embeddings.h5ad'])\n",
    "output_s = Create_input_spec(['brain_clusters.h5ad'])\n",
    "description='https://scanpy.readthedocs.io/en/stable/'\n",
    "\n",
    "greateMSGraph('http://aimicroservice.derby.ac.uk','genClustering', description,'Bioinfomatic_genClustering', dpend, 'annData_clustering', 0, 0, 'py', input_s, output_s, 'https://www.derby.ac.uk/staff/hongqing-yu/', 'https://en.wikipedia.org/wiki/Free-software_license', 'Bioinformatics')"
   ]
  },
  {
   "cell_type": "code",
   "execution_count": 18,
   "id": "89fcdc9e",
   "metadata": {},
   "outputs": [
    {
     "name": "stdout",
     "output_type": "stream",
     "text": [
      "http://aimicroservice.derby.ac.uk/Bioinformatics\n"
     ]
    }
   ],
   "source": [
    "#Dim reducing Gen AnnData\n",
    "requirements = ['scanpy','pandas','seaborn','matplotlib','sklearn']\n",
    "dpend = create_dependencies(requirements) \n",
    "input_s = Create_input_spec(['brain_normalized.h5ad'])\n",
    "output_s = Create_input_spec(['brain_embeddings.h5ad'])\n",
    "description='https://scanpy.readthedocs.io/en/stable/'\n",
    "\n",
    "greateMSGraph('http://aimicroservice.derby.ac.uk','genDimReduce', description,'Bioinfomatic_genDimReduce', dpend, 'annData_DimReduce', 0, 0, 'py', input_s, output_s, 'https://www.derby.ac.uk/staff/hongqing-yu/', 'https://en.wikipedia.org/wiki/Free-software_license', 'Bioinformatics')"
   ]
  },
  {
   "cell_type": "code",
   "execution_count": 16,
   "id": "ecf19dc6",
   "metadata": {},
   "outputs": [
    {
     "name": "stdout",
     "output_type": "stream",
     "text": [
      "http://aimicroservice.derby.ac.uk/Bioinformatics\n"
     ]
    }
   ],
   "source": [
    "#Gen Normalisation\n",
    "requirements = ['scanpy','pandas','seaborn','matplotlib']\n",
    "dpend = create_dependencies(requirements) \n",
    "input_s = Create_input_spec(['brain_qc.h5ad'])\n",
    "output_s = Create_input_spec(['brain_normalized.h5ad'])\n",
    "description='https://scanpy.readthedocs.io/en/stable/'\n",
    "\n",
    "greateMSGraph('http://aimicroservice.derby.ac.uk','genNormalisation', description,'Bioinfomatic_genNormalisation', dpend, 'annData_Normalisation', 0, 0, 'py', input_s, output_s, 'https://www.derby.ac.uk/staff/hongqing-yu/', 'https://en.wikipedia.org/wiki/Free-software_license', 'Bioinformatics')"
   ]
  },
  {
   "cell_type": "code",
   "execution_count": 15,
   "id": "2bdfe768",
   "metadata": {},
   "outputs": [
    {
     "name": "stdout",
     "output_type": "stream",
     "text": [
      "http://aimicroservice.derby.ac.uk/Bioinformatics\n"
     ]
    }
   ],
   "source": [
    "#Gen Quality control\n",
    "requirements = ['scanpy','pandas','seaborn','matplotlib']\n",
    "dpend = create_dependencies(requirements) \n",
    "input_s = Create_input_spec(['brain_raw.h5ad'])\n",
    "output_s = Create_input_spec(['brain_qc.h5ad'])\n",
    "description='https://scanpy.readthedocs.io/en/stable/'\n",
    "\n",
    "greateMSGraph('http://aimicroservice.derby.ac.uk','genQualityControl', description,'Bioinfomatic_genQualityControl', dpend, 'annData_qualityControl', 0, 0, 'py', input_s, output_s, 'https://www.derby.ac.uk/staff/hongqing-yu/', 'https://en.wikipedia.org/wiki/Free-software_license', 'Bioinformatics')"
   ]
  },
  {
   "cell_type": "code",
   "execution_count": 14,
   "id": "ba34837f",
   "metadata": {},
   "outputs": [
    {
     "name": "stdout",
     "output_type": "stream",
     "text": [
      "http://aimicroservice.derby.ac.uk/Bioinformatics\n"
     ]
    }
   ],
   "source": [
    "#Generate AnnData\n",
    "requirements = ['scanpy','pandas']\n",
    "dpend = create_dependencies(requirements) \n",
    "input_s = Create_input_spec(['datafile.two_csv'])\n",
    "output_s = Create_input_spec(['brain_raw.h5ad'])\n",
    "description='https://scanpy.readthedocs.io/en/stable/'\n",
    "\n",
    "greateMSGraph('http://aimicroservice.derby.ac.uk','genAnnDataCreation', description,'Bioinfomatic_ETL', dpend, 'annData', 0, 0, 'py', input_s, output_s, 'https://www.derby.ac.uk/staff/hongqing-yu/', 'https://en.wikipedia.org/wiki/Free-software_license', 'Bioinformatics')"
   ]
  },
  {
   "cell_type": "code",
   "execution_count": 1,
   "id": "f34706f0",
   "metadata": {},
   "outputs": [
    {
     "ename": "NameError",
     "evalue": "name 'create_dependencies' is not defined",
     "output_type": "error",
     "traceback": [
      "\u001B[1;31m---------------------------------------------------------------------------\u001B[0m",
      "\u001B[1;31mNameError\u001B[0m                                 Traceback (most recent call last)",
      "\u001B[1;32m~\\AppData\\Local\\Temp/ipykernel_5672/1396368191.py\u001B[0m in \u001B[0;36m<module>\u001B[1;34m\u001B[0m\n\u001B[0;32m      2\u001B[0m \u001B[1;33m\u001B[0m\u001B[0m\n\u001B[0;32m      3\u001B[0m \u001B[0mrequirements\u001B[0m \u001B[1;33m=\u001B[0m \u001B[1;33m[\u001B[0m\u001B[1;34m'transformers'\u001B[0m\u001B[1;33m]\u001B[0m\u001B[1;33m\u001B[0m\u001B[1;33m\u001B[0m\u001B[0m\n\u001B[1;32m----> 4\u001B[1;33m \u001B[0mdpend\u001B[0m \u001B[1;33m=\u001B[0m \u001B[0mcreate_dependencies\u001B[0m\u001B[1;33m(\u001B[0m\u001B[0mrequirements\u001B[0m\u001B[1;33m)\u001B[0m\u001B[1;33m\u001B[0m\u001B[1;33m\u001B[0m\u001B[0m\n\u001B[0m\u001B[0;32m      5\u001B[0m \u001B[0minput_s\u001B[0m \u001B[1;33m=\u001B[0m \u001B[0mCreate_input_spec\u001B[0m\u001B[1;33m(\u001B[0m\u001B[1;33m[\u001B[0m\u001B[1;34m'label'\u001B[0m\u001B[1;33m]\u001B[0m\u001B[1;33m)\u001B[0m\u001B[1;33m\u001B[0m\u001B[1;33m\u001B[0m\u001B[0m\n\u001B[0;32m      6\u001B[0m \u001B[0moutput_s\u001B[0m \u001B[1;33m=\u001B[0m \u001B[0mCreate_input_spec\u001B[0m\u001B[1;33m(\u001B[0m\u001B[1;33m[\u001B[0m\u001B[1;34m'text'\u001B[0m\u001B[1;33m]\u001B[0m\u001B[1;33m)\u001B[0m\u001B[1;33m\u001B[0m\u001B[1;33m\u001B[0m\u001B[0m\n",
      "\u001B[1;31mNameError\u001B[0m: name 'create_dependencies' is not defined"
     ]
    }
   ],
   "source": [
    "#huggingface\n",
    "\n",
    "requirements = ['transformers']\n",
    "dpend = create_dependencies(requirements) \n",
    "input_s = Create_input_spec(['label'])\n",
    "output_s = Create_input_spec(['text'])\n",
    "description='https://huggingface.co/docs/transformers/index'\n",
    "\n",
    "greateMSGraph('http://aimicroservice.derby.ac.uk','label2txt', description,'Text_generation', dpend, 'transformers', 0, 0, 'py', input_s, output_s, 'https://www.derby.ac.uk/staff/hongqing-yu/', 'https://en.wikipedia.org/wiki/Free-software_license', 'NLP_textgeneration')"
   ]
  },
  {
   "cell_type": "code",
   "execution_count": 16,
   "id": "96353b84",
   "metadata": {},
   "outputs": [],
   "source": [
    "#huggingface\n",
    "requirements = ['transformers']\n",
    "dpend = create_dependencies(requirements) \n",
    "input_s = Create_input_spec(['jpeg'])\n",
    "output_s = Create_input_spec(['txt'])\n",
    "description='https://huggingface.co/docs/transformers/tasks/image_classification'"
   ]
  },
  {
   "cell_type": "code",
   "execution_count": 17,
   "id": "394797f7",
   "metadata": {},
   "outputs": [
    {
     "name": "stdout",
     "output_type": "stream",
     "text": [
      "http://aimicroservice.derby.ac.uk/CV_image_classification\n"
     ]
    }
   ],
   "source": [
    "greateMSGraph('http://aimicroservice.derby.ac.uk','image_classification_pipeline', description,'Image_classification', dpend, 'transformers', 0, 0, 'py', input_s, output_s, 'https://www.derby.ac.uk/staff/hongqing-yu/', 'https://en.wikipedia.org/wiki/Free-software_license', 'CV_image_classification')"
   ]
  },
  {
   "cell_type": "code",
   "execution_count": 14,
   "id": "6dd6c293",
   "metadata": {},
   "outputs": [],
   "source": [
    "#huggingface\n",
    "\n",
    "requirements = ['transformers']\n",
    "dpend = create_dependencies(requirements) \n",
    "input_s = Create_input_spec(['text'])\n",
    "output_s = Create_input_spec(['text'])\n",
    "description='https://huggingface.co/docs/transformers/index'"
   ]
  },
  {
   "cell_type": "code",
   "execution_count": 15,
   "id": "539c7b1d",
   "metadata": {},
   "outputs": [
    {
     "name": "stdout",
     "output_type": "stream",
     "text": [
      "http://aimicroservice.derby.ac.uk/NLP\n"
     ]
    }
   ],
   "source": [
    "greateMSGraph('http://aimicroservice.derby.ac.uk','text_generation_pipeline', description,'Text_generation', dpend, 'transformers', 0, 0, 'py', input_s, output_s, 'https://www.derby.ac.uk/staff/hongqing-yu/', 'https://en.wikipedia.org/wiki/Free-software_license', 'NLP')"
   ]
  },
  {
   "cell_type": "code",
   "execution_count": 31,
   "id": "28064724",
   "metadata": {},
   "outputs": [],
   "source": [
    "requirements = ['pandas','numpy']\n",
    "dpend = create_dependencies(requirements) \n",
    "input_s = Create_input_spec(['datafile.csv'])\n",
    "output_s = Create_input_spec(['datafile.pandas'])\n",
    "description='sklearn loading the data from csv'"
   ]
  },
  {
   "cell_type": "code",
   "execution_count": 32,
   "id": "1e7d2e21",
   "metadata": {},
   "outputs": [
    {
     "name": "stdout",
     "output_type": "stream",
     "text": [
      "http://aimicroservice.derby.ac.uk/data_engineering\n"
     ]
    }
   ],
   "source": [
    "greateMSGraph('http://aimicroservice.derby.ac.uk','loadnormalpddata', description,'ETL_load', dpend, 'pandas', 0, 0, 'py', input_s, output_s, 'https://www.derby.ac.uk/staff/hongqing-yu/', 'https://en.wikipedia.org/wiki/Free-software_license', 'data_engineering')"
   ]
  },
  {
   "cell_type": "code",
   "execution_count": 5,
   "id": "745e9a5d",
   "metadata": {},
   "outputs": [
    {
     "ename": "NameError",
     "evalue": "name 'create_dependencies' is not defined",
     "output_type": "error",
     "traceback": [
      "\u001B[1;31m---------------------------------------------------------------------------\u001B[0m",
      "\u001B[1;31mNameError\u001B[0m                                 Traceback (most recent call last)",
      "Cell \u001B[1;32mIn[5], line 2\u001B[0m\n\u001B[0;32m      1\u001B[0m requirements \u001B[38;5;241m=\u001B[39m [\u001B[38;5;124m'\u001B[39m\u001B[38;5;124msklearn\u001B[39m\u001B[38;5;124m'\u001B[39m]\n\u001B[1;32m----> 2\u001B[0m dpend \u001B[38;5;241m=\u001B[39m \u001B[43mcreate_dependencies\u001B[49m(requirements) \n\u001B[0;32m      3\u001B[0m output_s \u001B[38;5;241m=\u001B[39m Create_input_spec([\u001B[38;5;124m'\u001B[39m\u001B[38;5;124mpipeline.processor\u001B[39m\u001B[38;5;124m'\u001B[39m])\n\u001B[0;32m      4\u001B[0m description \u001B[38;5;241m=\u001B[39m \u001B[38;5;124m'\u001B[39m\u001B[38;5;124mdata transforming function with scalling and encoding no input required\u001B[39m\u001B[38;5;124m'\u001B[39m\n",
      "\u001B[1;31mNameError\u001B[0m: name 'create_dependencies' is not defined"
     ]
    }
   ],
   "source": [
    "requirements = ['sklearn']\n",
    "dpend = create_dependencies(requirements) \n",
    "output_s = Create_input_spec(['pipeline.processor'])\n",
    "description = 'data transforming function with scalling and encoding no input required'"
   ]
  },
  {
   "cell_type": "code",
   "execution_count": 34,
   "id": "ff27ba1b",
   "metadata": {},
   "outputs": [
    {
     "name": "stdout",
     "output_type": "stream",
     "text": [
      "http://aimicroservice.derby.ac.uk/data_engineering\n"
     ]
    }
   ],
   "source": [
    "greateMSGraph('http://aimicroservice.derby.ac.uk','scalling', description, 'ETL_transform', dpend, 'sklearn', 0, 0, 'py', '', output_s, 'https://www.derby.ac.uk/staff/hongqing-yu/', 'https://en.wikipedia.org/wiki/Free-software_license', 'data_engineering')"
   ]
  },
  {
   "cell_type": "code",
   "execution_count": 35,
   "id": "6cbac763",
   "metadata": {},
   "outputs": [],
   "source": [
    "requirements = ['sklearn','numpy']\n",
    "dpend = create_dependencies(requirements) \n",
    "input_s = Create_input_spec(['datafile.pandas'])\n",
    "output_s = Create_input_spec(['datafile.pandas.6'])\n",
    "description='Applying sklearn data spliting function'"
   ]
  },
  {
   "cell_type": "code",
   "execution_count": 36,
   "id": "8a69fedc",
   "metadata": {},
   "outputs": [
    {
     "name": "stdout",
     "output_type": "stream",
     "text": [
      "http://aimicroservice.derby.ac.uk/data_engineering\n"
     ]
    }
   ],
   "source": [
    "greateMSGraph('http://aimicroservice.derby.ac.uk','spliting', description, 'DE_split', dpend, 'sklearn', 0, 0, 'py', input_s, output_s, 'https://www.derby.ac.uk/staff/hongqing-yu/', 'https://en.wikipedia.org/wiki/Free-software_license', 'data_engineering')"
   ]
  },
  {
   "cell_type": "markdown",
   "id": "28ac3782",
   "metadata": {},
   "source": [
    "namespace,ms_name, description, ms_type, dependencies, framework, GPU, pipeline, model_format, input_sp, output_sp, contributor, licence, service_category"
   ]
  },
  {
   "cell_type": "code",
   "execution_count": 19,
   "id": "3d9dfb3e",
   "metadata": {
    "ExecuteTime": {
     "start_time": "2023-07-26T10:17:12.168845Z",
     "end_time": "2023-07-26T10:17:12.196585Z"
    }
   },
   "outputs": [],
   "source": [
    "requirements = ['sklearn']\n",
    "dpend = create_dependencies(requirements) \n",
    "output_s = Create_input_spec(['model.logistic_regression'])\n",
    "description = 'A basic Logistic Regression model for classification task implemented with sklearn'"
   ]
  },
  {
   "cell_type": "code",
   "execution_count": 20,
   "id": "a94550b8",
   "metadata": {
    "ExecuteTime": {
     "start_time": "2023-07-26T10:17:12.713569Z",
     "end_time": "2023-07-26T10:17:12.910457Z"
    }
   },
   "outputs": [
    {
     "name": "stdout",
     "output_type": "stream",
     "text": [
      "http://aimicroservice.derby.ac.uk/Supervise_Learning\n"
     ]
    }
   ],
   "source": [
    "greateMSGraph('http://aimicroservice.derby.ac.uk','lrsklmodel', description, 'MLmodel_classification', dpend, 'sklearn', 0, 0, 'py', '', output_s, 'https://www.derby.ac.uk/staff/hongqing-yu/', 'https://en.wikipedia.org/wiki/Free-software_license', 'Supervise_Learning')"
   ]
  },
  {
   "cell_type": "code",
   "execution_count": 39,
   "id": "bfdbd443",
   "metadata": {},
   "outputs": [],
   "source": [
    "requirements = ['sklearn','panda']\n",
    "dpend = create_dependencies(requirements) \n",
    "input_s = Create_input_spec(['datafile.pandas.X','datafile.pandas.y','model.logistic_regression','pipeline.processor'])\n",
    "output_s = Create_input_spec(['model.dict'])\n",
    "description='Applying a gaven sklearn classification machine model testing on different feature selections and return a set of models.'"
   ]
  },
  {
   "cell_type": "code",
   "execution_count": 40,
   "id": "b940d1be",
   "metadata": {},
   "outputs": [
    {
     "name": "stdout",
     "output_type": "stream",
     "text": [
      "http://aimicroservice.derby.ac.uk/feature_optimisation\n"
     ]
    }
   ],
   "source": [
    "greateMSGraph('http://aimicroservice.derby.ac.uk','featureengineering', description, 'ML_featuretest', dpend, 'sklearn', 0, 0, 'py', input_s, output_s, 'https://www.derby.ac.uk/staff/hongqing-yu/', 'https://en.wikipedia.org/wiki/Free-software_license', 'feature_optimisation')"
   ]
  },
  {
   "cell_type": "code",
   "execution_count": 54,
   "id": "53f34eba",
   "metadata": {},
   "outputs": [],
   "source": [
    "requirements = ['sklearn','panda']\n",
    "dpend = create_dependencies(requirements) \n",
    "input_s = Create_input_spec(['model.dict','datafile.split.#X_train#','datafile.split.#y_train#'])\n",
    "output_s = Create_input_spec(['score.float','pipeline'])\n",
    "description='Do cross_val_score of a dictionay of models on testing data and return both cross_val_scores and the best pipeline model'"
   ]
  },
  {
   "cell_type": "code",
   "execution_count": 55,
   "id": "7562ae1f",
   "metadata": {},
   "outputs": [
    {
     "name": "stdout",
     "output_type": "stream",
     "text": [
      "http://aimicroservice.derby.ac.uk/Supervise_Learning\n"
     ]
    }
   ],
   "source": [
    "greateMSGraph('http://aimicroservice.derby.ac.uk','featuremodelevaluation', description, 'ML_optimisation', dpend, 'sklearn', 0, 0, 'py', input_s, output_s, 'https://www.derby.ac.uk/staff/hongqing-yu/', 'https://en.wikipedia.org/wiki/Free-software_license', 'Supervise_Learning')"
   ]
  },
  {
   "cell_type": "code",
   "execution_count": 52,
   "id": "70ccf392",
   "metadata": {},
   "outputs": [],
   "source": [
    "requirements = ['sklearn','panda','']\n",
    "dpend = create_dependencies(requirements) \n",
    "input_s = Create_input_spec(['datafile.split.#X_train#'])\n",
    "output_s = Create_input_spec(['model.dict'])\n",
    "description='Preparing models settings that are initialised with differnet feature combinations'"
   ]
  },
  {
   "cell_type": "code",
   "execution_count": 53,
   "id": "508f70bb",
   "metadata": {},
   "outputs": [
    {
     "name": "stdout",
     "output_type": "stream",
     "text": [
      "http://aimicroservice.derby.ac.uk/model_set\n"
     ]
    }
   ],
   "source": [
    "greateMSGraph('http://aimicroservice.derby.ac.uk','pipelinemodels', description, 'ML_model_set', dpend, 'sklearn', 0, 0, 'py', input_s, output_s, 'https://www.derby.ac.uk/staff/hongqing-yu/', 'https://en.wikipedia.org/wiki/Free-software_license', 'model_set')"
   ]
  },
  {
   "cell_type": "code",
   "execution_count": 50,
   "id": "b2ac98e6",
   "metadata": {},
   "outputs": [],
   "source": [
    "requirements = ['sklearn','numpy']\n",
    "dpend = create_dependencies(requirements) \n",
    "input_s = Create_input_spec(['datafile.pandas'])\n",
    "output_s = Create_input_spec(['datafile.split.#X_train, X_test, y_train, y_test#'])\n",
    "description='Applying sklearn data spliting function'"
   ]
  },
  {
   "cell_type": "code",
   "execution_count": 51,
   "id": "0d727cb6",
   "metadata": {},
   "outputs": [
    {
     "name": "stdout",
     "output_type": "stream",
     "text": [
      "http://aimicroservice.derby.ac.uk/data_engineering\n"
     ]
    }
   ],
   "source": [
    "greateMSGraph('http://aimicroservice.derby.ac.uk','spliting', description, 'DE_split', dpend, 'sklearn', 0, 0, 'py', input_s, output_s, 'https://www.derby.ac.uk/staff/hongqing-yu/', 'https://en.wikipedia.org/wiki/Free-software_license', 'data_engineering')"
   ]
  },
  {
   "cell_type": "code",
   "execution_count": 13,
   "id": "27ca48e4",
   "metadata": {
    "ExecuteTime": {
     "start_time": "2023-08-03T05:33:23.733112Z",
     "end_time": "2023-08-03T05:33:24.210304Z"
    }
   },
   "outputs": [],
   "source": [
    "#New Pipeline Service for Mortality data\n",
    "requirements = ['flask_restful']\n",
    "dpend = create_dependencies(requirements)\n",
    "output_s = Create_input_spec(['model.csv_json_datahandler'])\n",
    "description = 'Service to parse CSV data as json objects to the React frontend'"
   ]
  },
  {
   "cell_type": "code",
   "execution_count": 19,
   "outputs": [
    {
     "name": "stdout",
     "output_type": "stream",
     "text": [
      "http://aimicroservice.derby.ac.uk/data_engineering\n"
     ]
    }
   ],
   "source": [
    "greateMSGraph('http://aimicroservice.derby.ac.uk','csvjsonmodel', description, 'CsvDatHandler', dpend, 'flask_restful', 0, 0, 'py', '', output_s, 'https://www.derby.ac.uk/staff/hongqing-yu/', 'https://en.wikipedia.org/wiki/Free-software_license', 'data_engineering')"
   ],
   "metadata": {
    "collapsed": false,
    "ExecuteTime": {
     "start_time": "2023-08-03T08:49:06.709176Z",
     "end_time": "2023-08-03T08:49:07.071267Z"
    }
   }
  },
  {
   "cell_type": "code",
   "execution_count": null,
   "outputs": [],
   "source": [],
   "metadata": {
    "collapsed": false
   }
  }
 ],
 "metadata": {
  "kernelspec": {
   "display_name": "Python 3 (ipykernel)",
   "language": "python",
   "name": "python3"
  },
  "language_info": {
   "codemirror_mode": {
    "name": "ipython",
    "version": 3
   },
   "file_extension": ".py",
   "mimetype": "text/x-python",
   "name": "python",
   "nbconvert_exporter": "python",
   "pygments_lexer": "ipython3",
   "version": "3.8.12"
  }
 },
 "nbformat": 4,
 "nbformat_minor": 5
}
