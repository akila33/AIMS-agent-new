{
 "cells": [
  {
   "cell_type": "code",
   "execution_count": 1,
   "id": "54a830de",
   "metadata": {},
   "outputs": [],
   "source": [
    "from transformers import ViTFeatureExtractor, ViTForImageClassification\n",
    "from PIL import Image as img\n",
    "from IPython.display import Image, display"
   ]
  },
  {
   "cell_type": "code",
   "execution_count": 10,
   "id": "78075847",
   "metadata": {},
   "outputs": [
    {
     "data": {
      "image/jpeg": "[encoded data removed]",
      "text/plain": [
       "<IPython.core.display.Image object>"
      ]
     },
     "metadata": {
      "image/jpeg": {
       "height": 400,
       "width": 700
      }
     },
     "output_type": "display_data"
    }
   ],
   "source": [
    "FILE_NAME = 'cat.jpeg'\n",
    "display(Image(FILE_NAME, width = 700, height = 400))"
   ]
  },
  {
   "cell_type": "code",
   "execution_count": 11,
   "id": "f32bc109",
   "metadata": {},
   "outputs": [],
   "source": [
    "image_array = img.open('cat.jpeg')"
   ]
  },
  {
   "cell_type": "code",
   "execution_count": 12,
   "id": "9460d98e",
   "metadata": {},
   "outputs": [],
   "source": [
    "feature_extractor = ViTFeatureExtractor.from_pretrained('google/vit-base-patch16-224')\n",
    "model = ViTForImageClassification.from_pretrained('google/vit-base-patch16-224')"
   ]
  },
  {
   "cell_type": "code",
   "execution_count": 13,
   "id": "c4531c4c",
   "metadata": {},
   "outputs": [],
   "source": [
    "inputs = feature_extractor(images = image_array, \n",
    "                           return_tensors=\"pt\")\n",
    "outputs = model(**inputs)\n",
    "logits = outputs.logits"
   ]
  },
  {
   "cell_type": "code",
   "execution_count": 14,
   "id": "1643dff3",
   "metadata": {},
   "outputs": [],
   "source": [
    "predicted_class_idx = logits.argmax(-1).item()"
   ]
  },
  {
   "cell_type": "code",
   "execution_count": 15,
   "id": "1fd6051b",
   "metadata": {},
   "outputs": [
    {
     "name": "stdout",
     "output_type": "stream",
     "text": [
      "285\n"
     ]
    }
   ],
   "source": [
    "print(predicted_class_idx)"
   ]
  },
  {
   "cell_type": "code",
   "execution_count": 16,
   "id": "fa3baae1",
   "metadata": {},
   "outputs": [
    {
     "name": "stdout",
     "output_type": "stream",
     "text": [
      "Predicted class: Egyptian cat\n"
     ]
    }
   ],
   "source": [
    "print(\"Predicted class:\", model.config.id2label[predicted_class_idx])"
   ]
  },
  {
   "cell_type": "code",
   "execution_count": null,
   "id": "46dd0fac",
   "metadata": {},
   "outputs": [],
   "source": []
  }
 ],
 "metadata": {
  "kernelspec": {
   "display_name": "Python 3 (ipykernel)",
   "language": "python",
   "name": "python3"
  },
  "language_info": {
   "codemirror_mode": {
    "name": "ipython",
    "version": 3
   },
   "file_extension": ".py",
   "mimetype": "text/x-python",
   "name": "python",
   "nbconvert_exporter": "python",
   "pygments_lexer": "ipython3",
   "version": "3.8.12"
  }
 },
 "nbformat": 4,
 "nbformat_minor": 5
}
