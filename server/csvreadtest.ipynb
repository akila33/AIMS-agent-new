{
 "cells": [
  {
   "cell_type": "code",
   "execution_count": 1,
   "id": "55a0bab8",
   "metadata": {},
   "outputs": [],
   "source": [
    "import pandas as pd\n",
    "import numpy as np\n",
    "\n",
    "def function(path):\n",
    "    dataset = pd.read_csv(path)\n",
    "    return dataset"
   ]
  },
  {
   "cell_type": "code",
   "execution_count": 2,
   "id": "adfb6969",
   "metadata": {},
   "outputs": [],
   "source": [
    "df = function('pks.csv')"
   ]
  },
  {
   "cell_type": "code",
   "execution_count": 22,
   "id": "f7b21742",
   "metadata": {},
   "outputs": [],
   "source": [
    "df = df.drop('name', axis = 1)"
   ]
  },
  {
   "cell_type": "code",
   "execution_count": 37,
   "id": "c1be6786",
   "metadata": {},
   "outputs": [],
   "source": [
    "df.to_csv(\"pkson.csv\",index=False)"
   ]
  },
  {
   "cell_type": "code",
   "execution_count": 17,
   "id": "d9a0bd83",
   "metadata": {},
   "outputs": [],
   "source": [
    "#cols = list(df.columns.values) #Make a list of all of the columns in the df\n",
    "#cols.pop(cols.index('PPE')) #Remove b from list\n",
    "#cols.pop(cols.index('status')) #Remove x from list\n",
    "#df = df[cols+['PPE','status']] #Create new dataframe with columns in the order you want"
   ]
  },
  {
   "cell_type": "code",
   "execution_count": 22,
   "id": "7aacf67a",
   "metadata": {},
   "outputs": [],
   "source": [
    "#df"
   ]
  },
  {
   "cell_type": "code",
   "execution_count": 24,
   "id": "d9312a70",
   "metadata": {},
   "outputs": [],
   "source": [
    "from sklearn.model_selection import train_test_split\n",
    "\n",
    "def function1(dataset):\n",
    "    X = dataset.drop(dataset.columns[-1], axis=1)\n",
    "    y = dataset[dataset.columns[-1]].astype(int)\n",
    "    X_train, X_test, y_train, y_test = train_test_split(X, y, test_size=0.33, random_state=42)\n",
    "    \n",
    "    return [X_train, X_test, y_train, y_test]"
   ]
  },
  {
   "cell_type": "code",
   "execution_count": 25,
   "id": "d4e4ffa4",
   "metadata": {},
   "outputs": [],
   "source": [
    "output1 = function1(df)"
   ]
  },
  {
   "cell_type": "code",
   "execution_count": 26,
   "id": "a60746d2",
   "metadata": {},
   "outputs": [],
   "source": [
    "#output1"
   ]
  },
  {
   "cell_type": "code",
   "execution_count": 27,
   "id": "154bac39",
   "metadata": {},
   "outputs": [],
   "source": [
    "import pandas as pd\n",
    "from sklearn.metrics import accuracy_score\n",
    "from sklearn.feature_selection import RFE, RFECV\n",
    "from sklearn.pipeline import Pipeline\n",
    "from sklearn.model_selection import cross_val_score\n",
    "from sklearn.model_selection import RepeatedStratifiedKFold\n",
    "from sklearn.pipeline import make_pipeline\n",
    "from sklearn.model_selection import GridSearchCV\n",
    "from sklearn.model_selection import TimeSeriesSplit, cross_validate\n",
    "from sklearn import metrics\n",
    "from sklearn.metrics import balanced_accuracy_score, make_scorer\n",
    "from sklearn.datasets import make_classification\n",
    "from sklearn.tree import DecisionTreeClassifier\n",
    "from sklearn.impute import SimpleImputer\n",
    "from sklearn.preprocessing import StandardScaler, OneHotEncoder\n",
    "from sklearn.compose import make_column_selector,make_column_transformer\n",
    "from sklearn.pipeline import make_pipeline\n",
    "from sklearn.linear_model import LogisticRegression\n",
    "#from autokeras import StructuredDataClassifier\n",
    "def function2(X):\n",
    "    imp_median = SimpleImputer(strategy='median', add_indicator=True)\n",
    "    scaler = StandardScaler()\n",
    "\n",
    "    # set up preprocessing numeric columns\n",
    "    imp_median = SimpleImputer(strategy='median', add_indicator=True)\n",
    "    scaler = StandardScaler()\n",
    "\n",
    "    # set up preprocessing categorical columns\n",
    "    imp_constant = SimpleImputer(strategy='constant')\n",
    "    ohe = OneHotEncoder(handle_unknown='ignore')\n",
    "\n",
    "    # select columns by datatype\n",
    "    num_cols = make_column_selector(dtype_include='number')\n",
    "    cat_cols = make_column_selector(dtype_exclude='number')\n",
    "\n",
    "    # do all preprocessing\n",
    "    preprocessor = make_column_transformer(\n",
    "        (make_pipeline(imp_median, scaler), num_cols),\n",
    "        (make_pipeline(imp_constant, ohe), cat_cols)\n",
    "    )\n",
    "    \n",
    "    mlmodel = LogisticRegression()\n",
    "    models = dict()\n",
    "    for i in range(2, len(X.columns)):\n",
    "        rfe = RFE(estimator=mlmodel, n_features_to_select=i)\n",
    "        pipeline = make_pipeline(preprocessor,rfe)\n",
    "        #print(pipeline.named_steps['rfe'].ranking_[i],pipeline.named_steps['rfe'].support_[i])\n",
    "        models[str(i)] = pipeline\n",
    "    return [models]"
   ]
  },
  {
   "cell_type": "code",
   "execution_count": 28,
   "id": "f2db6b71",
   "metadata": {},
   "outputs": [],
   "source": [
    "output2=function2(output1[0])"
   ]
  },
  {
   "cell_type": "code",
   "execution_count": 29,
   "id": "6973491d",
   "metadata": {},
   "outputs": [],
   "source": [
    "#output2[0]"
   ]
  },
  {
   "cell_type": "code",
   "execution_count": 30,
   "id": "25eb4b67",
   "metadata": {},
   "outputs": [],
   "source": [
    "import pandas as pd\n",
    "from sklearn.metrics import accuracy_score\n",
    "from sklearn.feature_selection import RFE, RFECV\n",
    "from sklearn.pipeline import Pipeline\n",
    "from sklearn.model_selection import cross_val_score\n",
    "from sklearn.model_selection import RepeatedStratifiedKFold\n",
    "from sklearn.pipeline import make_pipeline\n",
    "\n",
    "# evaluate a give model using cross-validation\n",
    "def function3(models, X_train, y_train):\n",
    "    scores=[]\n",
    "    for i in models:\n",
    "        cv = RepeatedStratifiedKFold(n_splits=10, n_repeats=3, random_state=1)\n",
    "        score = cross_val_score(models[i], X_train, y_train, scoring='accuracy', cv=cv, n_jobs=-1, error_score='raise')\n",
    "        scores.append(score.mean())\n",
    "    tmp = max(scores)\n",
    "    index = scores.index(tmp)\n",
    "    print(index)\n",
    "    return models[str(index)]"
   ]
  },
  {
   "cell_type": "code",
   "execution_count": 31,
   "id": "42cbf095",
   "metadata": {},
   "outputs": [
    {
     "name": "stdout",
     "output_type": "stream",
     "text": [
      "18\n"
     ]
    }
   ],
   "source": [
    "output_final = function3(output2[0],output1[0],output1[2])"
   ]
  },
  {
   "cell_type": "code",
   "execution_count": 32,
   "id": "27b6ef69",
   "metadata": {},
   "outputs": [
    {
     "data": {
      "text/plain": [
       "Pipeline(steps=[('columntransformer',\n",
       "                 ColumnTransformer(transformers=[('pipeline-1',\n",
       "                                                  Pipeline(steps=[('simpleimputer',\n",
       "                                                                   SimpleImputer(add_indicator=True,\n",
       "                                                                                 strategy='median')),\n",
       "                                                                  ('standardscaler',\n",
       "                                                                   StandardScaler())]),\n",
       "                                                  <sklearn.compose._column_transformer.make_column_selector object at 0x000001D981100820>),\n",
       "                                                 ('pipeline-2',\n",
       "                                                  Pipeline(steps=[('simpleimputer',\n",
       "                                                                   SimpleImputer(strategy='constant')),\n",
       "                                                                  ('onehotencoder',\n",
       "                                                                   OneHotEncoder(handle_unknown='ignore'))]),\n",
       "                                                  <sklearn.compose._column_transformer.make_column_selector object at 0x000001D9811009A0>)])),\n",
       "                ('rfe',\n",
       "                 RFE(estimator=LogisticRegression(), n_features_to_select=18))])"
      ]
     },
     "execution_count": 32,
     "metadata": {},
     "output_type": "execute_result"
    }
   ],
   "source": [
    "output_final"
   ]
  },
  {
   "cell_type": "code",
   "execution_count": 33,
   "id": "9375dc0d",
   "metadata": {},
   "outputs": [],
   "source": [
    "datasetout = df"
   ]
  },
  {
   "cell_type": "code",
   "execution_count": 34,
   "id": "c3d34a93",
   "metadata": {},
   "outputs": [],
   "source": [
    "select_pipem=output_final\n",
    "m=select_pipem.fit(datasetout.drop(datasetout.columns[-1], axis=1),datasetout[datasetout.columns[-1]].astype(int))\n",
    "k=select_pipem.named_steps['rfe'].support_,select_pipem.named_steps['rfe'].ranking_"
   ]
  },
  {
   "cell_type": "code",
   "execution_count": 35,
   "id": "56baf68c",
   "metadata": {},
   "outputs": [],
   "source": [
    "listn=''\n",
    "i=0\n",
    "flag=0\n",
    "clm=datasetout.columns[:-1]\n",
    "for ik in k[1]:\n",
    "    #print(i,ik, k[1])\n",
    "    if ik == 1:\n",
    "        if flag ==0:\n",
    "            listn=clm[i]\n",
    "            flag = 1\n",
    "        else:\n",
    "            listn=listn+'.'+clm[i]\n",
    "    i=i+1"
   ]
  },
  {
   "cell_type": "code",
   "execution_count": 36,
   "id": "1bb6bb19",
   "metadata": {},
   "outputs": [
    {
     "data": {
      "text/plain": [
       "(array([ True,  True, False,  True,  True,  True,  True,  True,  True,\n",
       "         True, False,  True,  True, False,  True,  True,  True, False,\n",
       "         True,  True,  True,  True]),\n",
       " array([1, 1, 5, 1, 1, 1, 1, 1, 1, 1, 3, 1, 1, 2, 1, 1, 1, 4, 1, 1, 1, 1]))"
      ]
     },
     "execution_count": 36,
     "metadata": {},
     "output_type": "execute_result"
    }
   ],
   "source": [
    "k"
   ]
  },
  {
   "cell_type": "code",
   "execution_count": null,
   "id": "d9707dd0",
   "metadata": {},
   "outputs": [],
   "source": []
  }
 ],
 "metadata": {
  "kernelspec": {
   "display_name": "Python 3 (ipykernel)",
   "language": "python",
   "name": "python3"
  },
  "language_info": {
   "codemirror_mode": {
    "name": "ipython",
    "version": 3
   },
   "file_extension": ".py",
   "mimetype": "text/x-python",
   "name": "python",
   "nbconvert_exporter": "python",
   "pygments_lexer": "ipython3",
   "version": "3.8.12"
  }
 },
 "nbformat": 4,
 "nbformat_minor": 5
}
