{
 "cells": [
  {
   "cell_type": "code",
   "execution_count": 1,
   "id": "82e885e8",
   "metadata": {},
   "outputs": [
    {
     "data": {
      "text/plain": [
       "array([1, 1, 1, 1, 1, 6, 4, 3, 2, 5])"
      ]
     },
     "execution_count": 1,
     "metadata": {},
     "output_type": "execute_result"
    }
   ],
   "source": [
    "from sklearn.datasets import make_friedman1\n",
    "from sklearn.feature_selection import RFECV\n",
    "from sklearn.svm import SVR\n",
    "X, y = make_friedman1(n_samples=50, n_features=10, random_state=0)\n",
    "estimator = SVR(kernel=\"linear\")\n",
    "selector = RFECV(estimator, step=1, cv=5)\n",
    "selector = selector.fit(X, y)\n",
    "selector.support_\n",
    "\n",
    "\n",
    "selector.ranking_"
   ]
  },
  {
   "cell_type": "code",
   "execution_count": 2,
   "id": "933e1fd6",
   "metadata": {},
   "outputs": [
    {
     "data": {
      "text/plain": [
       "array([ True,  True,  True,  True,  True, False, False, False, False,\n",
       "       False])"
      ]
     },
     "execution_count": 2,
     "metadata": {},
     "output_type": "execute_result"
    }
   ],
   "source": [
    "selector.support_\n"
   ]
  },
  {
   "cell_type": "code",
   "execution_count": 4,
   "id": "6d304d46",
   "metadata": {},
   "outputs": [
    {
     "data": {
      "text/plain": [
       "array([17.2134918 , 19.37965436, 14.75030901, 11.81662128,  9.45520588,\n",
       "       13.90806032,  3.40447398, 24.20228984, 17.5783377 , 17.51556532,\n",
       "       17.40999895, 17.11893656, 21.81510702, 15.88623898, 21.63246599,\n",
       "       13.01689624, 22.908266  ,  6.84202611, 10.32969753, 17.70617001,\n",
       "        8.52251585,  9.51592807, 19.81663198,  2.99416378,  8.04688453,\n",
       "       22.09060713, 18.07976383, 15.64717616,  9.18985112,  8.10886643,\n",
       "       11.46237964, 11.27510587,  9.39472899, 19.12963765,  6.75303583,\n",
       "        8.59450992, 14.08547252, 15.47556192, 23.37684908, 10.65602456,\n",
       "       26.21981092,  7.56662861,  6.09081028, 15.3507226 , 13.30251573,\n",
       "       15.05111884, 12.18062778, 23.69853054,  7.89988206, 14.86941989])"
      ]
     },
     "execution_count": 4,
     "metadata": {},
     "output_type": "execute_result"
    }
   ],
   "source": [
    "y"
   ]
  },
  {
   "cell_type": "code",
   "execution_count": 2,
   "id": "6af3012e",
   "metadata": {},
   "outputs": [
    {
     "name": "stdout",
     "output_type": "stream",
     "text": [
      "Optimal number of features : 3\n"
     ]
    },
    {
     "name": "stderr",
     "output_type": "stream",
     "text": [
      "C:\\Users\\301054\\Anaconda3\\envs\\AIMicroServices\\lib\\site-packages\\sklearn\\utils\\deprecation.py:103: FutureWarning: The `grid_scores_` attribute is deprecated in version 1.0 in favor of `cv_results_` and will be removed in version 1.2.\n",
      "  warnings.warn(msg, category=FutureWarning)\n"
     ]
    },
    {
     "data": {
      "image/png": "[encoded data removed]",
      "text/plain": [
       "<Figure size 432x288 with 1 Axes>"
      ]
     },
     "metadata": {
      "needs_background": "light"
     },
     "output_type": "display_data"
    }
   ],
   "source": [
    "import matplotlib.pyplot as plt\n",
    "from sklearn.svm import SVC\n",
    "from sklearn.model_selection import StratifiedKFold\n",
    "from sklearn.feature_selection import RFECV\n",
    "from sklearn.datasets import make_classification\n",
    "\n",
    "# Build a classification task using 3 informative features\n",
    "X, y = make_classification(\n",
    "    n_samples=1000,\n",
    "    n_features=25,\n",
    "    n_informative=3,\n",
    "    n_redundant=2,\n",
    "    n_repeated=0,\n",
    "    n_classes=8,\n",
    "    n_clusters_per_class=1,\n",
    "    random_state=0,\n",
    ")\n",
    "\n",
    "# Create the RFE object and compute a cross-validated score.\n",
    "svc = SVC(kernel=\"linear\")\n",
    "# The \"accuracy\" scoring shows the proportion of correct classifications\n",
    "\n",
    "min_features_to_select = 1  # Minimum number of features to consider\n",
    "rfecv = RFECV(\n",
    "    estimator=svc,\n",
    "    step=1,\n",
    "    cv=StratifiedKFold(2),\n",
    "    scoring=\"accuracy\",\n",
    "    min_features_to_select=min_features_to_select,\n",
    ")\n",
    "rfecv.fit(X, y)\n",
    "\n",
    "print(\"Optimal number of features : %d\" % rfecv.n_features_)\n",
    "\n",
    "# Plot number of features VS. cross-validation scores\n",
    "plt.figure()\n",
    "plt.xlabel(\"Number of features selected\")\n",
    "plt.ylabel(\"Cross validation score (accuracy)\")\n",
    "plt.plot(\n",
    "    range(min_features_to_select, len(rfecv.grid_scores_) + min_features_to_select),\n",
    "    rfecv.grid_scores_,\n",
    ")\n",
    "plt.show()"
   ]
  },
  {
   "cell_type": "code",
   "execution_count": 3,
   "id": "c78415f7",
   "metadata": {},
   "outputs": [
    {
     "name": "stdout",
     "output_type": "stream",
     "text": [
      "Column: 0, Selected False, Rank: 4.000\n",
      "Column: 1, Selected False, Rank: 5.000\n",
      "Column: 2, Selected True, Rank: 1.000\n",
      "Column: 3, Selected True, Rank: 1.000\n",
      "Column: 4, Selected True, Rank: 1.000\n",
      "Column: 5, Selected False, Rank: 6.000\n",
      "Column: 6, Selected True, Rank: 1.000\n",
      "Column: 7, Selected False, Rank: 3.000\n",
      "Column: 8, Selected True, Rank: 1.000\n",
      "Column: 9, Selected False, Rank: 2.000\n"
     ]
    }
   ],
   "source": [
    "from sklearn.datasets import make_classification\n",
    "from sklearn.feature_selection import RFE\n",
    "from sklearn.tree import DecisionTreeClassifier\n",
    "# define dataset\n",
    "X, y = make_classification(n_samples=1000, n_features=10, n_informative=5, n_redundant=5, random_state=1)\n",
    "# define RFE\n",
    "rfe = RFE(estimator=DecisionTreeClassifier(), n_features_to_select=5)\n",
    "# fit RFE\n",
    "rfe.fit(X, y)\n",
    "# summarize all features\n",
    "for i in range(X.shape[1]):\n",
    "\tprint('Column: %d, Selected %s, Rank: %.3f' % (i, rfe.support_[i], rfe.ranking_[i]))"
   ]
  },
  {
   "cell_type": "code",
   "execution_count": 1,
   "id": "25ab31f1",
   "metadata": {},
   "outputs": [
    {
     "ename": "AttributeError",
     "evalue": "'RFECV' object has no attribute 'ranking_'",
     "output_type": "error",
     "traceback": [
      "\u001b[1;31m---------------------------------------------------------------------------\u001b[0m",
      "\u001b[1;31mAttributeError\u001b[0m                            Traceback (most recent call last)",
      "\u001b[1;32m~\\AppData\\Local\\Temp\\1/ipykernel_1444/3687912373.py\u001b[0m in \u001b[0;36m<module>\u001b[1;34m\u001b[0m\n\u001b[0;32m     19\u001b[0m \u001b[0mpipeline\u001b[0m \u001b[1;33m=\u001b[0m \u001b[0mPipeline\u001b[0m\u001b[1;33m(\u001b[0m\u001b[0mestimators\u001b[0m\u001b[1;33m)\u001b[0m\u001b[1;33m\u001b[0m\u001b[1;33m\u001b[0m\u001b[0m\n\u001b[0;32m     20\u001b[0m \u001b[1;33m\u001b[0m\u001b[0m\n\u001b[1;32m---> 21\u001b[1;33m \u001b[0mranking_features\u001b[0m \u001b[1;33m=\u001b[0m \u001b[0mpipeline\u001b[0m\u001b[1;33m.\u001b[0m\u001b[0mnamed_steps\u001b[0m\u001b[1;33m[\u001b[0m\u001b[1;34m'rfecv'\u001b[0m\u001b[1;33m]\u001b[0m\u001b[1;33m.\u001b[0m\u001b[0mranking_\u001b[0m\u001b[1;33m\u001b[0m\u001b[1;33m\u001b[0m\u001b[0m\n\u001b[0m\u001b[0;32m     22\u001b[0m \u001b[0mprint\u001b[0m \u001b[1;33m(\u001b[0m\u001b[0mranking_features\u001b[0m\u001b[1;33m)\u001b[0m\u001b[1;33m\u001b[0m\u001b[1;33m\u001b[0m\u001b[0m\n",
      "\u001b[1;31mAttributeError\u001b[0m: 'RFECV' object has no attribute 'ranking_'"
     ]
    }
   ],
   "source": [
    "from sklearn.feature_selection import RFECV\n",
    "from sklearn.metrics import accuracy_score\n",
    "from sklearn.model_selection import cross_val_predict, KFold\n",
    "from sklearn.preprocessing import StandardScaler\n",
    "from sklearn.ensemble import RandomForestClassifier\n",
    "from sklearn.pipeline import Pipeline\n",
    "from sklearn.datasets import load_iris\n",
    "\n",
    "data = load_iris()\n",
    "\n",
    "X = data.data\n",
    "Y = data.target\n",
    "\n",
    "clf = RandomForestClassifier()\n",
    "\n",
    "estimators = [('standardize' , StandardScaler()),\n",
    "             ('rfecv', RFECV(estimator=clf, scoring='accuracy'))]\n",
    "\n",
    "pipeline = Pipeline(estimators)\n",
    "\n",
    "ranking_features = pipeline.named_steps['rfecv'].ranking_\n",
    "print (ranking_features)"
   ]
  },
  {
   "cell_type": "code",
   "execution_count": 2,
   "id": "12f7fb8f",
   "metadata": {},
   "outputs": [],
   "source": [
    "from sklearn import set_config\n",
    "\n",
    "set_config(print_changed_only=True)\n",
    "\n",
    "\n",
    "from sklearn.datasets import make_classification\n",
    "from sklearn.feature_selection import RFE, RFECV\n",
    "from sklearn.tree import DecisionTreeClassifier\n",
    "from sklearn.model_selection import TimeSeriesSplit, cross_validate\n",
    "from sklearn import metrics\n",
    "from sklearn.metrics import balanced_accuracy_score, make_scorer\n",
    "from sklearn.pipeline import Pipeline\n",
    "\n",
    "X, y = make_classification(\n",
    "    n_samples=1000, n_features=10, n_informative=5, n_redundant=5, random_state=1)\n",
    "\n",
    "# create pipeline\n",
    "rfecv_model = RFECV(estimator=DecisionTreeClassifier())\n",
    "model = DecisionTreeClassifier()\n",
    "pipeline = Pipeline(steps=[('s', rfecv_model), ('m', model)])\n",
    "\n",
    "# make balanced scorer\n",
    "scorer = make_scorer(balanced_accuracy_score)\n",
    "\n",
    "# evaluate model\n",
    "cv = TimeSeriesSplit(n_splits=3)\n",
    "result = cross_validate(pipeline, X, y, scoring=scorer,\n",
    "                          cv=cv, return_estimator=True)"
   ]
  },
  {
   "cell_type": "code",
   "execution_count": 3,
   "id": "6bd6382e",
   "metadata": {},
   "outputs": [
    {
     "data": {
      "text/plain": [
       "{'fit_time': array([0.08530235, 0.10070014, 0.13264489]),\n",
       " 'score_time': array([0.00099683, 0.        , 0.00096655]),\n",
       " 'estimator': [Pipeline(steps=[('s', RFECV(estimator=DecisionTreeClassifier())),\n",
       "                  ('m', DecisionTreeClassifier())]),\n",
       "  Pipeline(steps=[('s', RFECV(estimator=DecisionTreeClassifier())),\n",
       "                  ('m', DecisionTreeClassifier())]),\n",
       "  Pipeline(steps=[('s', RFECV(estimator=DecisionTreeClassifier())),\n",
       "                  ('m', DecisionTreeClassifier())])],\n",
       " 'test_score': array([0.808     , 0.83602202, 0.86648309])}"
      ]
     },
     "execution_count": 3,
     "metadata": {},
     "output_type": "execute_result"
    }
   ],
   "source": [
    "result"
   ]
  },
  {
   "cell_type": "code",
   "execution_count": 4,
   "id": "f084a6e8",
   "metadata": {},
   "outputs": [
    {
     "name": "stdout",
     "output_type": "stream",
     "text": [
      "Iteration no: 0\n",
      "Column: 0, Selected False, Rank: 2\n",
      "Column: 1, Selected True, Rank: 1\n",
      "Column: 2, Selected True, Rank: 1\n",
      "Column: 3, Selected True, Rank: 1\n",
      "Column: 4, Selected True, Rank: 1\n",
      "Column: 5, Selected True, Rank: 1\n",
      "Column: 6, Selected True, Rank: 1\n",
      "Column: 7, Selected True, Rank: 1\n",
      "Column: 8, Selected True, Rank: 1\n",
      "Column: 9, Selected True, Rank: 1\n",
      "Iteration no: 1\n",
      "Column: 0, Selected False, Rank: 2\n",
      "Column: 1, Selected False, Rank: 4\n",
      "Column: 2, Selected True, Rank: 1\n",
      "Column: 3, Selected True, Rank: 1\n",
      "Column: 4, Selected False, Rank: 3\n",
      "Column: 5, Selected False, Rank: 6\n",
      "Column: 6, Selected True, Rank: 1\n",
      "Column: 7, Selected False, Rank: 5\n",
      "Column: 8, Selected True, Rank: 1\n",
      "Column: 9, Selected False, Rank: 7\n",
      "Iteration no: 2\n",
      "Column: 0, Selected False, Rank: 2\n",
      "Column: 1, Selected False, Rank: 5\n",
      "Column: 2, Selected True, Rank: 1\n",
      "Column: 3, Selected True, Rank: 1\n",
      "Column: 4, Selected True, Rank: 1\n",
      "Column: 5, Selected False, Rank: 4\n",
      "Column: 6, Selected True, Rank: 1\n",
      "Column: 7, Selected False, Rank: 6\n",
      "Column: 8, Selected True, Rank: 1\n",
      "Column: 9, Selected False, Rank: 3\n"
     ]
    }
   ],
   "source": [
    "for iter, pipe in enumerate(result['estimator']):\n",
    "    print(f'Iteration no: {iter}')\n",
    "    for i in range(X.shape[1]):\n",
    "        print('Column: %d, Selected %s, Rank: %d' %\n",
    "            (i, pipe['s'].support_[i], pipe['s'].ranking_[i]))"
   ]
  },
  {
   "cell_type": "code",
   "execution_count": null,
   "id": "82478d3f",
   "metadata": {},
   "outputs": [],
   "source": []
  }
 ],
 "metadata": {
  "kernelspec": {
   "display_name": "Python 3 (ipykernel)",
   "language": "python",
   "name": "python3"
  },
  "language_info": {
   "codemirror_mode": {
    "name": "ipython",
    "version": 3
   },
   "file_extension": ".py",
   "mimetype": "text/x-python",
   "name": "python",
   "nbconvert_exporter": "python",
   "pygments_lexer": "ipython3",
   "version": "3.8.12"
  }
 },
 "nbformat": 4,
 "nbformat_minor": 5
}
