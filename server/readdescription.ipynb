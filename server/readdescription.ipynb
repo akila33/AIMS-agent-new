{
 "cells": [
  {
   "cell_type": "code",
   "execution_count": 1,
   "id": "6ac4b008",
   "metadata": {},
   "outputs": [],
   "source": [
    "from rdflib import Graph, Literal, RDF, URIRef\n",
    "# rdflib knows about quite a few popular namespaces, like W3C ontologies, schema.org etc.\n",
    "from rdflib.namespace import FOAF , XSD\n",
    "from rdflib.namespace import NamespaceManager\n",
    "from rdflib import BNode"
   ]
  },
  {
   "cell_type": "code",
   "execution_count": 2,
   "id": "e7e4662a",
   "metadata": {},
   "outputs": [
    {
     "data": {
      "text/plain": [
       "<Graph identifier=Nb2b2470f8d9b46f9befe2f254c5cb337 (<class 'rdflib.graph.Graph'>)>"
      ]
     },
     "execution_count": 2,
     "metadata": {},
     "output_type": "execute_result"
    }
   ],
   "source": [
    "g = Graph()\n",
    "g.parse(\"registry.n3\")"
   ]
  },
  {
   "cell_type": "code",
   "execution_count": 3,
   "id": "e157f98f",
   "metadata": {},
   "outputs": [],
   "source": [
    "def searchandinvoke (ms_type,ms_input_category, ms_output_category, input_source):\n",
    "    invoke=''\n",
    "    q = \"\"\"\n",
    "        PREFIX ns1: <http://aimicroservice.derby.ac.uk/>\n",
    "        \n",
    "        SELECT *\n",
    "        WHERE {\"\"\" \n",
    "    if len(ms_type)>0:\n",
    "        q=q+\"\"\"?ms rdf:type ns1:\"\"\"+ms_type+\"\"\" .\n",
    "    \"\"\"\n",
    "    if len(ms_input_category)>0:\n",
    "        q=q+\"\"\" ?ms ns1:input ?in .\"\"\" \n",
    "        for xc in ms_input_category:\n",
    "            inputdata = xc.split('.')\n",
    "            if len(inputdata)>1:\n",
    "                q=q+\"\"\"?in ns1:iocategory ns1:\"\"\"+inputdata[0]+\"\"\" . \"\"\" \n",
    "                q=q+\"\"\"?in ns1:iodatatype ns1:\"\"\"+inputdata[1]+\"\"\" .\"\"\"\n",
    "            else:\n",
    "                q=q+\"\"\"{?in ns1:iocategory ns1:\"\"\"+xc+\"\"\" .} UNION {?in ns1:iodatatype ns1:\"\"\"+xc+\"\"\" .} \"\"\"\n",
    "            #q=q+\"\"\"?in ns1:iocategory ns1:\"\"\"+xc+\"\"\" .\"\"\" \n",
    "        #for xd in ms_input_datatype:    \n",
    "            #q=q+\"\"\"?in ns1:iodatatype ns1:\"\"\"+xd+\"\"\" .    \n",
    "    if len(ms_output_category)>0:\n",
    "        q=q+\"\"\" ?ms ns1:output ?out .\"\"\" \n",
    "        for xc in ms_output_category:\n",
    "            outdata = xc.split('.')\n",
    "            if len(outdata)>1:\n",
    "                q=q+\"\"\"?out ns1:iocategory ns1:\"\"\"+outdata[0]+\"\"\" . \"\"\" \n",
    "                q=q+\"\"\"?out ns1:iodatatype ns1:\"\"\"+outdata[1]+\"\"\" .\"\"\"\n",
    "            else:\n",
    "                q=q+\"\"\"{?out ns1:iocategory ns1:\"\"\"+xc+\"\"\" .} UNION {?out ns1:iodatatype ns1:\"\"\"+xc+\"\"\" .}\"\"\"\n",
    "        #for xc in ms_output_category:\n",
    "            #q=q+\"\"\"?out ns1:iocategory ns1:\"\"\"+xc+\"\"\" .\"\"\" \n",
    "        #for xd in ms_output_datatype:    \n",
    "            #q=q+\"\"\"?out ns1:iodatatype ns1:\"\"\"+xd+\"\"\" .\n",
    "    q=q+\"}\"\n",
    "    print (q)\n",
    "    qr = g.query(q)\n",
    "    if len(qr)==0:\n",
    "        print('No microservice has been find')\n",
    "    else:\n",
    "        for r in qr:\n",
    "            print(r[\"ms\"].split('/')[-1])\n",
    "            invoke = r[\"ms\"].split('/')[-1]\n",
    "        modules = {}\n",
    "        try:\n",
    "            modules[invoke] = __import__(invoke)\n",
    "            print (\"Successfully imported\", invoke, 'microservice.')\n",
    "            if len(input_source)>0:\n",
    "                if len(input_source)==1:\n",
    "                    return modules[invoke].function(input_source[0])\n",
    "                if len(input_source)==2:\n",
    "                    return modules[invoke].function(input_source[0],input_source[1])\n",
    "                if len(input_source)==3:\n",
    "                    return modules[invoke].function(input_source[0],input_source[1],input_source[2])\n",
    "                if len(input_source)==4:\n",
    "                    return modules[invoke].function(input_source[0],input_source[1],input_source[2],input_source[3])\n",
    "                if len(input_source)==5:\n",
    "                    return modules[invoke].function(input_source[0],input_source[1],input_source[2],input_source[3],input_source[4])\n",
    "            else:\n",
    "                return modules[invoke].function()\n",
    "        except ImportError:\n",
    "            print (\"Error importing \", invoke, '.')\n",
    "            return 'Error message 01'\n",
    "          "
   ]
  },
  {
   "cell_type": "code",
   "execution_count": 4,
   "id": "0472349a",
   "metadata": {},
   "outputs": [
    {
     "name": "stdout",
     "output_type": "stream",
     "text": [
      "\n",
      "        PREFIX ns1: <http://aimicroservice.derby.ac.uk/>\n",
      "        \n",
      "        SELECT *\n",
      "        WHERE {?ms rdf:type ns1:ETL_load .\n",
      "     ?ms ns1:input ?in .?in ns1:iocategory ns1:datafile . ?in ns1:iodatatype ns1:csv . ?ms ns1:output ?out .?out ns1:iocategory ns1:datafile . ?out ns1:iodatatype ns1:pandas .}\n",
      "loadnormalpddata\n",
      "Successfully imported loadnormalpddata microservice.\n"
     ]
    }
   ],
   "source": [
    "output_value = searchandinvoke ('ETL_load',['datafile.csv'], ['datafile.pandas'], ['heart.csv'])"
   ]
  },
  {
   "cell_type": "code",
   "execution_count": 5,
   "id": "e7896b99",
   "metadata": {},
   "outputs": [
    {
     "data": {
      "text/html": [
       "<div>\n",
       "<style scoped>\n",
       "    .dataframe tbody tr th:only-of-type {\n",
       "        vertical-align: middle;\n",
       "    }\n",
       "\n",
       "    .dataframe tbody tr th {\n",
       "        vertical-align: top;\n",
       "    }\n",
       "\n",
       "    .dataframe thead th {\n",
       "        text-align: right;\n",
       "    }\n",
       "</style>\n",
       "<table border=\"1\" class=\"dataframe\">\n",
       "  <thead>\n",
       "    <tr style=\"text-align: right;\">\n",
       "      <th></th>\n",
       "      <th>age</th>\n",
       "      <th>sex</th>\n",
       "      <th>cp</th>\n",
       "      <th>trestbps</th>\n",
       "      <th>chol</th>\n",
       "      <th>fbs</th>\n",
       "      <th>restecg</th>\n",
       "      <th>thalach</th>\n",
       "      <th>exang</th>\n",
       "      <th>oldpeak</th>\n",
       "      <th>slope</th>\n",
       "      <th>ca</th>\n",
       "      <th>thal</th>\n",
       "      <th>target</th>\n",
       "    </tr>\n",
       "  </thead>\n",
       "  <tbody>\n",
       "    <tr>\n",
       "      <th>0</th>\n",
       "      <td>63</td>\n",
       "      <td>1</td>\n",
       "      <td>3</td>\n",
       "      <td>145</td>\n",
       "      <td>233</td>\n",
       "      <td>1</td>\n",
       "      <td>0</td>\n",
       "      <td>150</td>\n",
       "      <td>0</td>\n",
       "      <td>2.3</td>\n",
       "      <td>0</td>\n",
       "      <td>0</td>\n",
       "      <td>1</td>\n",
       "      <td>1</td>\n",
       "    </tr>\n",
       "    <tr>\n",
       "      <th>1</th>\n",
       "      <td>37</td>\n",
       "      <td>1</td>\n",
       "      <td>2</td>\n",
       "      <td>130</td>\n",
       "      <td>250</td>\n",
       "      <td>0</td>\n",
       "      <td>1</td>\n",
       "      <td>187</td>\n",
       "      <td>0</td>\n",
       "      <td>3.5</td>\n",
       "      <td>0</td>\n",
       "      <td>0</td>\n",
       "      <td>2</td>\n",
       "      <td>1</td>\n",
       "    </tr>\n",
       "    <tr>\n",
       "      <th>2</th>\n",
       "      <td>41</td>\n",
       "      <td>0</td>\n",
       "      <td>1</td>\n",
       "      <td>130</td>\n",
       "      <td>204</td>\n",
       "      <td>0</td>\n",
       "      <td>0</td>\n",
       "      <td>172</td>\n",
       "      <td>0</td>\n",
       "      <td>1.4</td>\n",
       "      <td>2</td>\n",
       "      <td>0</td>\n",
       "      <td>2</td>\n",
       "      <td>1</td>\n",
       "    </tr>\n",
       "    <tr>\n",
       "      <th>3</th>\n",
       "      <td>56</td>\n",
       "      <td>1</td>\n",
       "      <td>1</td>\n",
       "      <td>120</td>\n",
       "      <td>236</td>\n",
       "      <td>0</td>\n",
       "      <td>1</td>\n",
       "      <td>178</td>\n",
       "      <td>0</td>\n",
       "      <td>0.8</td>\n",
       "      <td>2</td>\n",
       "      <td>0</td>\n",
       "      <td>2</td>\n",
       "      <td>1</td>\n",
       "    </tr>\n",
       "    <tr>\n",
       "      <th>4</th>\n",
       "      <td>57</td>\n",
       "      <td>0</td>\n",
       "      <td>0</td>\n",
       "      <td>120</td>\n",
       "      <td>354</td>\n",
       "      <td>0</td>\n",
       "      <td>1</td>\n",
       "      <td>163</td>\n",
       "      <td>1</td>\n",
       "      <td>0.6</td>\n",
       "      <td>2</td>\n",
       "      <td>0</td>\n",
       "      <td>2</td>\n",
       "      <td>1</td>\n",
       "    </tr>\n",
       "    <tr>\n",
       "      <th>...</th>\n",
       "      <td>...</td>\n",
       "      <td>...</td>\n",
       "      <td>...</td>\n",
       "      <td>...</td>\n",
       "      <td>...</td>\n",
       "      <td>...</td>\n",
       "      <td>...</td>\n",
       "      <td>...</td>\n",
       "      <td>...</td>\n",
       "      <td>...</td>\n",
       "      <td>...</td>\n",
       "      <td>...</td>\n",
       "      <td>...</td>\n",
       "      <td>...</td>\n",
       "    </tr>\n",
       "    <tr>\n",
       "      <th>298</th>\n",
       "      <td>57</td>\n",
       "      <td>0</td>\n",
       "      <td>0</td>\n",
       "      <td>140</td>\n",
       "      <td>241</td>\n",
       "      <td>0</td>\n",
       "      <td>1</td>\n",
       "      <td>123</td>\n",
       "      <td>1</td>\n",
       "      <td>0.2</td>\n",
       "      <td>1</td>\n",
       "      <td>0</td>\n",
       "      <td>3</td>\n",
       "      <td>0</td>\n",
       "    </tr>\n",
       "    <tr>\n",
       "      <th>299</th>\n",
       "      <td>45</td>\n",
       "      <td>1</td>\n",
       "      <td>3</td>\n",
       "      <td>110</td>\n",
       "      <td>264</td>\n",
       "      <td>0</td>\n",
       "      <td>1</td>\n",
       "      <td>132</td>\n",
       "      <td>0</td>\n",
       "      <td>1.2</td>\n",
       "      <td>1</td>\n",
       "      <td>0</td>\n",
       "      <td>3</td>\n",
       "      <td>0</td>\n",
       "    </tr>\n",
       "    <tr>\n",
       "      <th>300</th>\n",
       "      <td>68</td>\n",
       "      <td>1</td>\n",
       "      <td>0</td>\n",
       "      <td>144</td>\n",
       "      <td>193</td>\n",
       "      <td>1</td>\n",
       "      <td>1</td>\n",
       "      <td>141</td>\n",
       "      <td>0</td>\n",
       "      <td>3.4</td>\n",
       "      <td>1</td>\n",
       "      <td>2</td>\n",
       "      <td>3</td>\n",
       "      <td>0</td>\n",
       "    </tr>\n",
       "    <tr>\n",
       "      <th>301</th>\n",
       "      <td>57</td>\n",
       "      <td>1</td>\n",
       "      <td>0</td>\n",
       "      <td>130</td>\n",
       "      <td>131</td>\n",
       "      <td>0</td>\n",
       "      <td>1</td>\n",
       "      <td>115</td>\n",
       "      <td>1</td>\n",
       "      <td>1.2</td>\n",
       "      <td>1</td>\n",
       "      <td>1</td>\n",
       "      <td>3</td>\n",
       "      <td>0</td>\n",
       "    </tr>\n",
       "    <tr>\n",
       "      <th>302</th>\n",
       "      <td>57</td>\n",
       "      <td>0</td>\n",
       "      <td>1</td>\n",
       "      <td>130</td>\n",
       "      <td>236</td>\n",
       "      <td>0</td>\n",
       "      <td>0</td>\n",
       "      <td>174</td>\n",
       "      <td>0</td>\n",
       "      <td>0.0</td>\n",
       "      <td>1</td>\n",
       "      <td>1</td>\n",
       "      <td>2</td>\n",
       "      <td>0</td>\n",
       "    </tr>\n",
       "  </tbody>\n",
       "</table>\n",
       "<p>303 rows × 14 columns</p>\n",
       "</div>"
      ],
      "text/plain": [
       "     age  sex  cp  trestbps  chol  fbs  restecg  thalach  exang  oldpeak  \\\n",
       "0     63    1   3       145   233    1        0      150      0      2.3   \n",
       "1     37    1   2       130   250    0        1      187      0      3.5   \n",
       "2     41    0   1       130   204    0        0      172      0      1.4   \n",
       "3     56    1   1       120   236    0        1      178      0      0.8   \n",
       "4     57    0   0       120   354    0        1      163      1      0.6   \n",
       "..   ...  ...  ..       ...   ...  ...      ...      ...    ...      ...   \n",
       "298   57    0   0       140   241    0        1      123      1      0.2   \n",
       "299   45    1   3       110   264    0        1      132      0      1.2   \n",
       "300   68    1   0       144   193    1        1      141      0      3.4   \n",
       "301   57    1   0       130   131    0        1      115      1      1.2   \n",
       "302   57    0   1       130   236    0        0      174      0      0.0   \n",
       "\n",
       "     slope  ca  thal  target  \n",
       "0        0   0     1       1  \n",
       "1        0   0     2       1  \n",
       "2        2   0     2       1  \n",
       "3        2   0     2       1  \n",
       "4        2   0     2       1  \n",
       "..     ...  ..   ...     ...  \n",
       "298      1   0     3       0  \n",
       "299      1   0     3       0  \n",
       "300      1   2     3       0  \n",
       "301      1   1     3       0  \n",
       "302      1   1     2       0  \n",
       "\n",
       "[303 rows x 14 columns]"
      ]
     },
     "execution_count": 5,
     "metadata": {},
     "output_type": "execute_result"
    }
   ],
   "source": [
    "output_value"
   ]
  },
  {
   "cell_type": "code",
   "execution_count": 6,
   "id": "462f45d8",
   "metadata": {},
   "outputs": [
    {
     "name": "stdout",
     "output_type": "stream",
     "text": [
      "\n",
      "        PREFIX ns1: <http://aimicroservice.derby.ac.uk/>\n",
      "        \n",
      "        SELECT *\n",
      "        WHERE {?ms rdf:type ns1:ETL_transform .\n",
      "     ?ms ns1:output ?out .?out ns1:iocategory ns1:pipeline . ?out ns1:iodatatype ns1:processor .}\n",
      "scalling\n",
      "Successfully imported scalling microservice.\n"
     ]
    }
   ],
   "source": [
    "output_value1 = searchandinvoke ('ETL_transform','', ['pipeline.processor'], '')"
   ]
  },
  {
   "cell_type": "code",
   "execution_count": 7,
   "id": "6b0fb814",
   "metadata": {},
   "outputs": [
    {
     "name": "stdout",
     "output_type": "stream",
     "text": [
      "\n",
      "        PREFIX ns1: <http://aimicroservice.derby.ac.uk/>\n",
      "        \n",
      "        SELECT *\n",
      "        WHERE {?ms rdf:type ns1:DE_split .\n",
      "     ?ms ns1:input ?in .?in ns1:iocategory ns1:datafile . ?in ns1:iodatatype ns1:pandas .?in ns1:iocategory ns1:varable . ?in ns1:iodatatype ns1:str . ?ms ns1:output ?out .?out ns1:iocategory ns1:datafile . ?out ns1:iodatatype ns1:pandas .}\n",
      "spliting\n",
      "Successfully imported spliting microservice.\n"
     ]
    }
   ],
   "source": [
    "output_value2 = searchandinvoke ('DE_split',['datafile.pandas','varable.str'], ['datafile.pandas'], [output_value,'target'])"
   ]
  },
  {
   "cell_type": "code",
   "execution_count": 8,
   "id": "3135c7f4",
   "metadata": {},
   "outputs": [
    {
     "data": {
      "text/plain": [
       "6"
      ]
     },
     "execution_count": 8,
     "metadata": {},
     "output_type": "execute_result"
    }
   ],
   "source": [
    "len(output_value2)"
   ]
  },
  {
   "cell_type": "code",
   "execution_count": 9,
   "id": "10529885",
   "metadata": {},
   "outputs": [
    {
     "data": {
      "text/html": [
       "<div>\n",
       "<style scoped>\n",
       "    .dataframe tbody tr th:only-of-type {\n",
       "        vertical-align: middle;\n",
       "    }\n",
       "\n",
       "    .dataframe tbody tr th {\n",
       "        vertical-align: top;\n",
       "    }\n",
       "\n",
       "    .dataframe thead th {\n",
       "        text-align: right;\n",
       "    }\n",
       "</style>\n",
       "<table border=\"1\" class=\"dataframe\">\n",
       "  <thead>\n",
       "    <tr style=\"text-align: right;\">\n",
       "      <th></th>\n",
       "      <th>age</th>\n",
       "      <th>sex</th>\n",
       "      <th>cp</th>\n",
       "      <th>trestbps</th>\n",
       "      <th>chol</th>\n",
       "      <th>fbs</th>\n",
       "      <th>restecg</th>\n",
       "      <th>thalach</th>\n",
       "      <th>exang</th>\n",
       "      <th>oldpeak</th>\n",
       "      <th>slope</th>\n",
       "      <th>ca</th>\n",
       "      <th>thal</th>\n",
       "    </tr>\n",
       "  </thead>\n",
       "  <tbody>\n",
       "    <tr>\n",
       "      <th>0</th>\n",
       "      <td>63</td>\n",
       "      <td>1</td>\n",
       "      <td>3</td>\n",
       "      <td>145</td>\n",
       "      <td>233</td>\n",
       "      <td>1</td>\n",
       "      <td>0</td>\n",
       "      <td>150</td>\n",
       "      <td>0</td>\n",
       "      <td>2.3</td>\n",
       "      <td>0</td>\n",
       "      <td>0</td>\n",
       "      <td>1</td>\n",
       "    </tr>\n",
       "    <tr>\n",
       "      <th>1</th>\n",
       "      <td>37</td>\n",
       "      <td>1</td>\n",
       "      <td>2</td>\n",
       "      <td>130</td>\n",
       "      <td>250</td>\n",
       "      <td>0</td>\n",
       "      <td>1</td>\n",
       "      <td>187</td>\n",
       "      <td>0</td>\n",
       "      <td>3.5</td>\n",
       "      <td>0</td>\n",
       "      <td>0</td>\n",
       "      <td>2</td>\n",
       "    </tr>\n",
       "    <tr>\n",
       "      <th>2</th>\n",
       "      <td>41</td>\n",
       "      <td>0</td>\n",
       "      <td>1</td>\n",
       "      <td>130</td>\n",
       "      <td>204</td>\n",
       "      <td>0</td>\n",
       "      <td>0</td>\n",
       "      <td>172</td>\n",
       "      <td>0</td>\n",
       "      <td>1.4</td>\n",
       "      <td>2</td>\n",
       "      <td>0</td>\n",
       "      <td>2</td>\n",
       "    </tr>\n",
       "    <tr>\n",
       "      <th>3</th>\n",
       "      <td>56</td>\n",
       "      <td>1</td>\n",
       "      <td>1</td>\n",
       "      <td>120</td>\n",
       "      <td>236</td>\n",
       "      <td>0</td>\n",
       "      <td>1</td>\n",
       "      <td>178</td>\n",
       "      <td>0</td>\n",
       "      <td>0.8</td>\n",
       "      <td>2</td>\n",
       "      <td>0</td>\n",
       "      <td>2</td>\n",
       "    </tr>\n",
       "    <tr>\n",
       "      <th>4</th>\n",
       "      <td>57</td>\n",
       "      <td>0</td>\n",
       "      <td>0</td>\n",
       "      <td>120</td>\n",
       "      <td>354</td>\n",
       "      <td>0</td>\n",
       "      <td>1</td>\n",
       "      <td>163</td>\n",
       "      <td>1</td>\n",
       "      <td>0.6</td>\n",
       "      <td>2</td>\n",
       "      <td>0</td>\n",
       "      <td>2</td>\n",
       "    </tr>\n",
       "  </tbody>\n",
       "</table>\n",
       "</div>"
      ],
      "text/plain": [
       "   age  sex  cp  trestbps  chol  fbs  restecg  thalach  exang  oldpeak  slope  \\\n",
       "0   63    1   3       145   233    1        0      150      0      2.3      0   \n",
       "1   37    1   2       130   250    0        1      187      0      3.5      0   \n",
       "2   41    0   1       130   204    0        0      172      0      1.4      2   \n",
       "3   56    1   1       120   236    0        1      178      0      0.8      2   \n",
       "4   57    0   0       120   354    0        1      163      1      0.6      2   \n",
       "\n",
       "   ca  thal  \n",
       "0   0     1  \n",
       "1   0     2  \n",
       "2   0     2  \n",
       "3   0     2  \n",
       "4   0     2  "
      ]
     },
     "execution_count": 9,
     "metadata": {},
     "output_type": "execute_result"
    }
   ],
   "source": [
    "output_value2[0].head()"
   ]
  },
  {
   "cell_type": "code",
   "execution_count": 10,
   "id": "ccd4344d",
   "metadata": {},
   "outputs": [
    {
     "name": "stdout",
     "output_type": "stream",
     "text": [
      "\n",
      "        PREFIX ns1: <http://aimicroservice.derby.ac.uk/>\n",
      "        \n",
      "        SELECT *\n",
      "        WHERE {?ms rdf:type ns1:MLmodel_classification .\n",
      "     ?ms ns1:output ?out .?out ns1:iocategory ns1:model . ?out ns1:iodatatype ns1:logistic_regression .}\n",
      "lrsklmodel\n",
      "Successfully imported lrsklmodel microservice.\n"
     ]
    }
   ],
   "source": [
    "output_value3 = searchandinvoke ('MLmodel_classification','', ['model.logistic_regression'], '')"
   ]
  },
  {
   "cell_type": "code",
   "execution_count": 11,
   "id": "aeb5598b",
   "metadata": {},
   "outputs": [
    {
     "name": "stdout",
     "output_type": "stream",
     "text": [
      "\n",
      "        PREFIX ns1: <http://aimicroservice.derby.ac.uk/>\n",
      "        \n",
      "        SELECT *\n",
      "        WHERE {?ms rdf:type ns1:ML_featuretest .\n",
      "     ?ms ns1:input ?in .?in ns1:iocategory ns1:datafile . ?in ns1:iodatatype ns1:logistic_regression .?in ns1:iocategory ns1:model . ?in ns1:iodatatype ns1:pandas .?in ns1:iocategory ns1:pipeline . ?in ns1:iodatatype ns1:processor . ?ms ns1:output ?out .?out ns1:iocategory ns1:model . ?out ns1:iodatatype ns1:dict .}\n",
      "featureengineering\n",
      "Successfully imported featureengineering microservice.\n"
     ]
    }
   ],
   "source": [
    "output_value4 = searchandinvoke ('ML_featuretest',['datafile.logistic_regression','model.pandas','pipeline.processor'], ['model.dict'], [output_value2[0],output_value2[1],output_value3,output_value1])"
   ]
  },
  {
   "cell_type": "code",
   "execution_count": 15,
   "id": "a8680d57",
   "metadata": {},
   "outputs": [
    {
     "name": "stdout",
     "output_type": "stream",
     "text": [
      "\n",
      "        PREFIX ns1: <http://aimicroservice.derby.ac.uk/>\n",
      "        \n",
      "        SELECT *\n",
      "        WHERE {?ms rdf:type ns1:ML_optimisation .\n",
      "     ?ms ns1:input ?in .?in ns1:iocategory ns1:datafile . ?in ns1:iodatatype ns1:pandas .?in ns1:iocategory ns1:model . ?in ns1:iodatatype ns1:dict . ?ms ns1:output ?out .?out ns1:iocategory ns1:score . ?out ns1:iodatatype ns1:float .?out ns1:iocategory ns1:model . ?out ns1:iodatatype ns1:dict .}\n",
      "featuremodelevaluation\n",
      "Successfully imported featuremodelevaluation microservice.\n"
     ]
    }
   ],
   "source": [
    "output_value5 = searchandinvoke ('ML_optimisation',['datafile.pandas','model.dict'], ['score.float','model.dict'], [output_value4,output_value2[3],output_value2[5]])"
   ]
  },
  {
   "cell_type": "code",
   "execution_count": 13,
   "id": "37ecdd19",
   "metadata": {},
   "outputs": [
    {
     "data": {
      "text/plain": [
       "[0.7466666666666666,\n",
       " 0.7699999999999998,\n",
       " 0.7666666666666665,\n",
       " 0.7799999999999998,\n",
       " 0.8366666666666664,\n",
       " 0.8366666666666664,\n",
       " 0.7866666666666667,\n",
       " 0.81,\n",
       " 0.81,\n",
       " 0.7966666666666667,\n",
       " 0.8066666666666666]"
      ]
     },
     "execution_count": 13,
     "metadata": {},
     "output_type": "execute_result"
    }
   ],
   "source": [
    "output_value5[0]"
   ]
  },
  {
   "cell_type": "code",
   "execution_count": 16,
   "id": "0e16cb22",
   "metadata": {},
   "outputs": [],
   "source": [
    "select_pipem=output_value5[1]"
   ]
  },
  {
   "cell_type": "code",
   "execution_count": 18,
   "id": "4c4eb22c",
   "metadata": {},
   "outputs": [
    {
     "data": {
      "text/plain": [
       "Pipeline(steps=[('columntransformer',\n",
       "                 ColumnTransformer(transformers=[('pipeline-1',\n",
       "                                                  Pipeline(steps=[('simpleimputer',\n",
       "                                                                   SimpleImputer(add_indicator=True,\n",
       "                                                                                 strategy='median')),\n",
       "                                                                  ('standardscaler',\n",
       "                                                                   StandardScaler())]),\n",
       "                                                  <sklearn.compose._column_transformer.make_column_selector object at 0x00000236ADE90040>),\n",
       "                                                 ('pipeline-2',\n",
       "                                                  Pipeline(steps=[('simpleimputer',\n",
       "                                                                   SimpleImputer(strategy='constant')),\n",
       "                                                                  ('onehotencoder',\n",
       "                                                                   OneHotEncoder(handle_unknown='ignore'))]),\n",
       "                                                  <sklearn.compose._column_transformer.make_column_selector object at 0x00000236ADE901C0>)])),\n",
       "                ('rfe',\n",
       "                 RFE(estimator=LogisticRegression(), n_features_to_select=4))])"
      ]
     },
     "execution_count": 18,
     "metadata": {},
     "output_type": "execute_result"
    }
   ],
   "source": [
    "select_pipem.fit(output_value2[0],output_value2[1])"
   ]
  },
  {
   "cell_type": "code",
   "execution_count": 20,
   "id": "93347db8",
   "metadata": {},
   "outputs": [
    {
     "data": {
      "text/plain": [
       "array([False,  True,  True, False, False, False, False, False, False,\n",
       "        True, False,  True, False])"
      ]
     },
     "execution_count": 20,
     "metadata": {},
     "output_type": "execute_result"
    }
   ],
   "source": [
    "select_pipem.named_steps['rfe'].support_"
   ]
  },
  {
   "cell_type": "code",
   "execution_count": 24,
   "id": "16630f05",
   "metadata": {},
   "outputs": [],
   "source": [
    "#persistant the best_model in the disc but described as triple knowledge \n",
    "import joblib\n",
    "from joblib import dump,load\n"
   ]
  },
  {
   "cell_type": "code",
   "execution_count": 25,
   "id": "df5149ed",
   "metadata": {},
   "outputs": [
    {
     "data": {
      "text/plain": [
       "['demo1.joblib']"
      ]
     },
     "execution_count": 25,
     "metadata": {},
     "output_type": "execute_result"
    }
   ],
   "source": [
    "joblib.dump(output_value5[1], 'demo1.joblib')"
   ]
  },
  {
   "cell_type": "code",
   "execution_count": 26,
   "id": "aa73580f",
   "metadata": {},
   "outputs": [],
   "source": [
    "clf = load('demo1.joblib')"
   ]
  },
  {
   "cell_type": "code",
   "execution_count": 27,
   "id": "9428343a",
   "metadata": {},
   "outputs": [
    {
     "name": "stdout",
     "output_type": "stream",
     "text": [
      "Pipeline(steps=[('columntransformer',\n",
      "                 ColumnTransformer(transformers=[('pipeline-1',\n",
      "                                                  Pipeline(steps=[('simpleimputer',\n",
      "                                                                   SimpleImputer(add_indicator=True,\n",
      "                                                                                 strategy='median')),\n",
      "                                                                  ('standardscaler',\n",
      "                                                                   StandardScaler())]),\n",
      "                                                  <sklearn.compose._column_transformer.make_column_selector object at 0x00000236AE144730>),\n",
      "                                                 ('pipeline-2',\n",
      "                                                  Pipeline(steps=[('simpleimputer',\n",
      "                                                                   SimpleImputer(strategy='constant')),\n",
      "                                                                  ('onehotencoder',\n",
      "                                                                   OneHotEncoder(handle_unknown='ignore'))]),\n",
      "                                                  <sklearn.compose._column_transformer.make_column_selector object at 0x00000236AE0CC1F0>)])),\n",
      "                ('rfe',\n",
      "                 RFE(estimator=LogisticRegression(), n_features_to_select=4))])\n"
     ]
    }
   ],
   "source": [
    "print(clf)"
   ]
  },
  {
   "cell_type": "code",
   "execution_count": 28,
   "id": "cf22b22a",
   "metadata": {},
   "outputs": [
    {
     "data": {
      "text/plain": [
       "Pipeline(steps=[('columntransformer',\n",
       "                 ColumnTransformer(transformers=[('pipeline-1',\n",
       "                                                  Pipeline(steps=[('simpleimputer',\n",
       "                                                                   SimpleImputer(add_indicator=True,\n",
       "                                                                                 strategy='median')),\n",
       "                                                                  ('standardscaler',\n",
       "                                                                   StandardScaler())]),\n",
       "                                                  <sklearn.compose._column_transformer.make_column_selector object at 0x00000236AE144730>),\n",
       "                                                 ('pipeline-2',\n",
       "                                                  Pipeline(steps=[('simpleimputer',\n",
       "                                                                   SimpleImputer(strategy='constant')),\n",
       "                                                                  ('onehotencoder',\n",
       "                                                                   OneHotEncoder(handle_unknown='ignore'))]),\n",
       "                                                  <sklearn.compose._column_transformer.make_column_selector object at 0x00000236AE0CC1F0>)])),\n",
       "                ('rfe',\n",
       "                 RFE(estimator=LogisticRegression(), n_features_to_select=4))])"
      ]
     },
     "execution_count": 28,
     "metadata": {},
     "output_type": "execute_result"
    }
   ],
   "source": [
    "clf.fit(output_value2[0],output_value2[1])"
   ]
  },
  {
   "cell_type": "code",
   "execution_count": 29,
   "id": "913e13eb",
   "metadata": {},
   "outputs": [
    {
     "data": {
      "text/plain": [
       "array([False,  True,  True, False, False, False, False, False, False,\n",
       "        True, False,  True, False])"
      ]
     },
     "execution_count": 29,
     "metadata": {},
     "output_type": "execute_result"
    }
   ],
   "source": [
    "select_pipem.named_steps['rfe'].support_"
   ]
  },
  {
   "cell_type": "code",
   "execution_count": 22,
   "id": "8b23a4b3",
   "metadata": {},
   "outputs": [
    {
     "name": "stdout",
     "output_type": "stream",
     "text": [
      "yes\n"
     ]
    }
   ],
   "source": [
    "q = \"\"\"\n",
    "        PREFIX ns1: <http://aimicroservice.derby.ac.uk/>\n",
    "        \n",
    "        SELECT *\n",
    "        WHERE {?ms rdf:type ns1:ETL_transform .\n",
    "     ?ms ns1:input ?in .{?in ns1:iocategory ns1:pipeline .} UNION {?in ns1:iodatatype ns1:pipeline .}  ?ms ns1:output ?out .{?out ns1:iocategory ns1:processor .} UNION {?out ns1:iodatatype ns1:processor .}}\n",
    "    \n",
    "    \"\"\"\n",
    "qr = g.query(q)\n",
    "if len(qr)==0:\n",
    "    print('No microservice has been find')\n",
    "else:\n",
    "    print('yes')"
   ]
  },
  {
   "cell_type": "code",
   "execution_count": null,
   "id": "92cdefe9",
   "metadata": {},
   "outputs": [],
   "source": []
  }
 ],
 "metadata": {
  "kernelspec": {
   "display_name": "Python 3 (ipykernel)",
   "language": "python",
   "name": "python3"
  },
  "language_info": {
   "codemirror_mode": {
    "name": "ipython",
    "version": 3
   },
   "file_extension": ".py",
   "mimetype": "text/x-python",
   "name": "python",
   "nbconvert_exporter": "python",
   "pygments_lexer": "ipython3",
   "version": "3.8.12"
  }
 },
 "nbformat": 4,
 "nbformat_minor": 5
}
