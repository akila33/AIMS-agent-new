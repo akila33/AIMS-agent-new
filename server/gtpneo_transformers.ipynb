{
 "cells": [
  {
   "cell_type": "code",
   "execution_count": 1,
   "id": "811fff9b",
   "metadata": {},
   "outputs": [],
   "source": [
    "import text_generation_pipeline"
   ]
  },
  {
   "cell_type": "code",
   "execution_count": 4,
   "id": "f2902605",
   "metadata": {},
   "outputs": [
    {
     "name": "stderr",
     "output_type": "stream",
     "text": [
      "Setting `pad_token_id` to `eos_token_id`:50256 for open-end generation.\n"
     ]
    }
   ],
   "source": [
    "value = text_generation_pipeline.function('text.txt')"
   ]
  },
  {
   "cell_type": "code",
   "execution_count": 5,
   "id": "e4131530",
   "metadata": {},
   "outputs": [
    {
     "data": {
      "text/plain": [
       "'What does data science mean? What does this term really mean? For those of us who are new to the field, and certainly for the most experienced, data science could be defined as using statistical and mathematical techniques to find patterns in complex data sets, then combining those patterns with domain knowledge to make sense of them.\\n\\nWhen this was first presented to me at a business school class, I got stumped. It sounds simple enough, but was completely unfamiliar. The term data science was not familiar'"
      ]
     },
     "execution_count": 5,
     "metadata": {},
     "output_type": "execute_result"
    }
   ],
   "source": [
    "value"
   ]
  },
  {
   "cell_type": "code",
   "execution_count": null,
   "id": "974d0240",
   "metadata": {},
   "outputs": [],
   "source": []
  },
  {
   "cell_type": "code",
   "execution_count": null,
   "id": "bc2859b7",
   "metadata": {},
   "outputs": [],
   "source": []
  }
 ],
 "metadata": {
  "kernelspec": {
   "display_name": "Python 3 (ipykernel)",
   "language": "python",
   "name": "python3"
  },
  "language_info": {
   "codemirror_mode": {
    "name": "ipython",
    "version": 3
   },
   "file_extension": ".py",
   "mimetype": "text/x-python",
   "name": "python",
   "nbconvert_exporter": "python",
   "pygments_lexer": "ipython3",
   "version": "3.8.12"
  }
 },
 "nbformat": 4,
 "nbformat_minor": 5
}
