{
 "cells": [
  {
   "cell_type": "markdown",
   "id": "6f3378c7",
   "metadata": {},
   "source": [
    "# Gathering knowledge from input\n",
    "1.Checking if the input schema knowledge is exist or not (check domain, task and input features) \n",
    "1.1. if exist, acccess policy for guiding next step\n",
    "1.2. if not, go to next step\n",
    "2.learning task id, domain, input features, task\n",
    "3.extracting to the Task-input KG "
   ]
  },
  {
   "cell_type": "code",
   "execution_count": 1,
   "id": "d7bc479a",
   "metadata": {
    "ExecuteTime": {
     "start_time": "2023-06-15T09:24:12.272464Z",
     "end_time": "2023-06-15T09:24:37.927454Z"
    }
   },
   "outputs": [],
   "source": [
    "from rdflib import Graph, Literal, RDF, URIRef\n",
    "# rdflib knows about quite a few popular namespaces, like W3C ontologies, schema.org etc.\n",
    "from rdflib.namespace import FOAF , XSD\n",
    "from rdflib.namespace import NamespaceManager\n",
    "from rdflib import BNode\n",
    "import pandas as pd\n",
    "import numpy as np\n",
    "from uuid import uuid4"
   ]
  },
  {
   "cell_type": "code",
   "execution_count": 3,
   "id": "77c3a4d6",
   "metadata": {
    "ExecuteTime": {
     "start_time": "2023-06-15T10:01:49.899463Z",
     "end_time": "2023-06-15T10:01:49.946388Z"
    }
   },
   "outputs": [],
   "source": [
    "def task_panda_inputKG (namespace, task_id, task_domain, task_purpose, inputdf, inputdata_name):\n",
    "    #flag = check_existance()\n",
    "    flag = true\n",
    "    if (flag):\n",
    "        #link task id to the exist task id\n",
    "        #linkToPolicyKG()\n",
    "        print('link to policy, find same datainput')\n",
    "        #linkToWorldKG()\n",
    "        #changeState()\n",
    "    else:\n",
    "        kg = Graph()\n",
    "        kg.parse(\"KGLayer/taskinput.n3\")\n",
    "        \n",
    "        if len(task_id) > 0 and len(inputdata) > 0:\n",
    "            #subject\n",
    "            task = URIRef(namespace+'/'+task_id)\n",
    "            #object\n",
    "            if len(task_domain) > 0:\n",
    "                domain = URIRef(namespace+'/'+task_domain)\n",
    "                #verb\n",
    "                has_domain = URIRef(namespace+'/domain')\n",
    "                kg.add((task, has_domain, domain))\n",
    "                       \n",
    "            if len(task_domain) > 0:\n",
    "                _purpose = URIRef(namespace+'/'+task_purpose)\n",
    "                has_purpose = URIRef(namespace+'/purpose')\n",
    "                kg.add((task, has_purpose, purpose))\n",
    "            #verb\n",
    "            has_ctx = URIRef(namespace+'/context')\n",
    "            #context object =\n",
    "            \n",
    "            _data = inputdata.split('.')\n",
    "            data_name = URIRef(namespace+'/'+inputdata_name)\n",
    "            data_type = URIRef(namespace+'/'+_data[-1])\n",
    "            has_datatype = URIRef(namespace+'/data_type')\n",
    "            has_input = URIRef(namespace+'/input_data')\n",
    "            has_number_record = URIRef(namespace+'/record_nubmer')\n",
    "            has_number_feature = URIRef(namespace+'/feature_number')\n",
    "            has_feature_type = URIRef(namespace+'/feature_type')\n",
    "            kg.add((task, has_purpose, data_name))\n",
    "            kg.add((data_name, has_datatype, data_type))\n",
    "            #parsing inputdata\n",
    "            numberr = inputdf.shape[0]\n",
    "            numberf = inputdf.shape[1]\n",
    "            kg.add((data_name, has_number_record, Literal(str(numberr),lang=\"en\")))\n",
    "            kg.add((data_name, has_number_feature, Literal(str(numberf),lang=\"en\")))\n",
    "            for col in inputdf.columns:\n",
    "                kg.add((data_name, has_feature_type, URIRef(namespace+'/feature/'+col)))\n",
    "        g.serialize(destination='registry'+\".n3\")"
   ]
  },
  {
   "cell_type": "code",
   "execution_count": null,
   "id": "90f9babe",
   "metadata": {},
   "outputs": [],
   "source": []
  },
  {
   "cell_type": "code",
   "execution_count": null,
   "id": "434cf8fb",
   "metadata": {},
   "outputs": [],
   "source": []
  }
 ],
 "metadata": {
  "kernelspec": {
   "display_name": "Python 3 (ipykernel)",
   "language": "python",
   "name": "python3"
  },
  "language_info": {
   "codemirror_mode": {
    "name": "ipython",
    "version": 3
   },
   "file_extension": ".py",
   "mimetype": "text/x-python",
   "name": "python",
   "nbconvert_exporter": "python",
   "pygments_lexer": "ipython3",
   "version": "3.8.12"
  }
 },
 "nbformat": 4,
 "nbformat_minor": 5
}
